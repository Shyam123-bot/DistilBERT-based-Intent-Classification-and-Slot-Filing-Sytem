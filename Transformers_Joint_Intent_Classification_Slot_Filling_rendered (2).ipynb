{
  "cells": [
    {
      "cell_type": "markdown",
      "metadata": {
        "id": "bBb1hsPFt8lV"
      },
      "source": [
        "# Joint Intent Classification and Slot Filling with Transformers\n",
        "\n",
        "The goal of this notebook is to fine-tune a pretrained transformer-based neural network model to convert a user query expressed in English into\n",
        "a representation that is structured enough to be processed by an automated service.\n",
        "\n",
        "Here is an example of interpretation computed by such a Natural Language Understanding system:\n",
        "\n",
        "```python\n",
        ">>> nlu(\"Book a table for two at Le Ritz for Friday night\",\n",
        "        tokenizer, joint_model, intent_names, slot_names)\n",
        "```\n",
        "```\n",
        "{\n",
        "    'intent': 'BookRestaurant',\n",
        "    'slots': {\n",
        "        'party_size_number': 'two',\n",
        "        'restaurant_name': 'Le Ritz',\n",
        "        'timeRange': 'Friday night'\n",
        "    }\n",
        "}\n",
        "```\n",
        "\n",
        "Intent classification is a simple sequence classification problem. The trick is to treat the structured knowledge extraction part (\"Slot Filling\") as token-level classification problem using BIO-annotations:\n",
        "\n",
        "```python\n",
        ">>> show_predictions(\"Book a table for two at Le Ritz for Friday night!\",\n",
        "...                  tokenizer, joint_model, intent_names, slot_names)\n",
        "```\n",
        "```\n",
        "## Intent: BookRestaurant\n",
        "## Slots:\n",
        "      Book : O\n",
        "         a : O\n",
        "     table : O\n",
        "       for : O\n",
        "       two : B-party_size_number\n",
        "        at : O\n",
        "        Le : B-restaurant_name\n",
        "         R : I-restaurant_name\n",
        "     ##itz : I-restaurant_name\n",
        "       for : O\n",
        "    Friday : B-timeRange\n",
        "     night : I-timeRange\n",
        "         ! : O\n",
        "```\n",
        "\n",
        "We will show how to train a such as join \"sequence classification\" and \"token classification\" joint model on a [voice command dataset]() published by snips.ai.\n",
        "\n",
        "\n",
        "This notebook is a partial reproduction of some of the results presented in this paper:\n",
        "\n",
        "BERT for Joint Intent Classification and Slot Filling\n",
        "Qian Chen, Zhu Zhuo, Wen Wang\n",
        "\n",
        "https://arxiv.org/abs/1902.10909"
      ]
    },
    {
      "cell_type": "code",
      "execution_count": 1,
      "metadata": {
        "colab": {
          "base_uri": "https://localhost:8080/",
          "height": 35
        },
        "id": "meK0JpbEPAAA",
        "outputId": "7762859c-18c7-42c4-b22e-5bd940500da0"
      },
      "outputs": [
        {
          "data": {
            "text/plain": [
              "'2.10.0'"
            ]
          },
          "execution_count": 1,
          "metadata": {},
          "output_type": "execute_result"
        }
      ],
      "source": [
        "import tensorflow as tf\n",
        "tf.__version__"
      ]
    },
    {
      "cell_type": "markdown",
      "metadata": {},
      "source": [
        "Dynamic memory allocation which allows tensoflow to allocate only as much GPU memory as it needs rather than allocating all available GPU memory at once"
      ]
    },
    {
      "cell_type": "code",
      "execution_count": 2,
      "metadata": {},
      "outputs": [],
      "source": [
        "import tensorflow as tf\n",
        "\n",
        "gpus = tf.config.list_physical_devices(\"GPU\")\n",
        "if gpus:\n",
        "    try:\n",
        "        for gpu in gpus:\n",
        "            tf.config.experimental.set_memory_growth(gpu, True)\n",
        "    except RuntimeError as e:\n",
        "        print(\"Could not set memory growth:\", e)\n"
      ]
    },
    {
      "cell_type": "code",
      "execution_count": 3,
      "metadata": {
        "colab": {
          "base_uri": "https://localhost:8080/"
        },
        "id": "0pualy2lUWAs",
        "outputId": "bfcf9fcd-a573-4e4b-93ef-985137442fd7"
      },
      "outputs": [
        {
          "name": "stdout",
          "output_type": "stream",
          "text": [
            "Sun May 18 18:12:43 2025       \n",
            "+-----------------------------------------------------------------------------------------+\n",
            "| NVIDIA-SMI 566.36                 Driver Version: 566.36         CUDA Version: 12.7     |\n",
            "|-----------------------------------------+------------------------+----------------------+\n",
            "| GPU  Name                  Driver-Model | Bus-Id          Disp.A | Volatile Uncorr. ECC |\n",
            "| Fan  Temp   Perf          Pwr:Usage/Cap |           Memory-Usage | GPU-Util  Compute M. |\n",
            "|                                         |                        |               MIG M. |\n",
            "|=========================================+========================+======================|\n",
            "|   0  NVIDIA GeForce RTX 3050 ...  WDDM  |   00000000:01:00.0 Off |                  N/A |\n",
            "| N/A   63C    P8             10W /   71W |    2035MiB /   4096MiB |      0%      Default |\n",
            "|                                         |                        |                  N/A |\n",
            "+-----------------------------------------+------------------------+----------------------+\n",
            "                                                                                         \n",
            "+-----------------------------------------------------------------------------------------+\n",
            "| Processes:                                                                              |\n",
            "|  GPU   GI   CI        PID   Type   Process name                              GPU Memory |\n",
            "|        ID   ID                                                               Usage      |\n",
            "|=========================================================================================|\n",
            "|    0   N/A  N/A      1204      C   ...niconda3\\envs\\distilbert\\python.exe      N/A      |\n",
            "+-----------------------------------------------------------------------------------------+\n"
          ]
        }
      ],
      "source": [
        "!nvidia-smi"
      ]
    },
    {
      "cell_type": "code",
      "execution_count": 4,
      "metadata": {},
      "outputs": [
        {
          "name": "stdout",
          "output_type": "stream",
          "text": [
            "TensorFlow version: 2.10.0\n",
            "Num GPUs Available: 1\n",
            "GPU Details: [PhysicalDevice(name='/physical_device:GPU:0', device_type='GPU')]\n"
          ]
        }
      ],
      "source": [
        "import tensorflow as tf\n",
        "\n",
        "print(\"TensorFlow version:\", tf.__version__)\n",
        "print(\"Num GPUs Available:\", len(tf.config.list_physical_devices('GPU')))\n",
        "print(\"GPU Details:\", tf.config.list_physical_devices('GPU'))"
      ]
    },
    {
      "cell_type": "code",
      "execution_count": 5,
      "metadata": {
        "id": "S7meRWCzubcW"
      },
      "outputs": [
        {
          "name": "stdout",
          "output_type": "stream",
          "text": [
            "Note: you may need to restart the kernel to use updated packages.\n"
          ]
        }
      ],
      "source": [
        "%pip install -q transformers"
      ]
    },
    {
      "cell_type": "markdown",
      "metadata": {
        "id": "GmHZ3QTAcvOt"
      },
      "source": [
        "## The Data\n",
        "\n",
        "We will use a speech command dataset collected, annotated and published by French startup SNIPS.ai (bought in 2019 by Audio device manufacturer Sonos).\n",
        "\n",
        "The original dataset comes in [YAML format with inline markdown annotations](https://snips-nlu.readthedocs.io/en/latest/dataset.html).\n",
        "\n",
        "Instead we will use a preprocessed variant with token level B-I-O annotations closer the representation our model will predict. This variant of the SNIPS\n",
        "dataset was prepared by [Su Zhu](https://github.com/sz128).\n",
        "\n"
      ]
    },
    {
      "cell_type": "code",
      "execution_count": 6,
      "metadata": {
        "id": "xuJFBFbWOW7t"
      },
      "outputs": [],
      "source": [
        "from urllib.request import urlretrieve\n",
        "from pathlib import Path\n",
        "\n",
        "\n",
        "SNIPS_DATA_BASE_URL = (\n",
        "    \"https://github.com/ogrisel/slot_filling_and_intent_detection_of_SLU/blob/\"\n",
        "    \"master/data/snips/\"\n",
        ")\n",
        "\n",
        "def download_snips_data():\n",
        "    files = [\"train\", \"valid\", \"test\", \"vocab.intent\", \"vocab.slot\"]\n",
        "    for filename in files:\n",
        "        path = Path(filename)\n",
        "        if not path.exists():\n",
        "            print(f\"Downloading {filename}...\")\n",
        "            urlretrieve(SNIPS_DATA_BASE_URL + filename + \"?raw=true\", path)"
      ]
    },
    {
      "cell_type": "markdown",
      "metadata": {
        "id": "-Xo3f5tNjJCL"
      },
      "source": [
        "Let's have a look at the first lines from the training set:"
      ]
    },
    {
      "cell_type": "code",
      "execution_count": 7,
      "metadata": {
        "colab": {
          "base_uri": "https://localhost:8080/"
        },
        "id": "o4mCRg2UQr1f",
        "outputId": "3988ad09-b04e-4de2-864e-b80eb5afb74d"
      },
      "outputs": [
        {
          "data": {
            "text/plain": [
              "['Add:O Don:B-entity_name and:I-entity_name Sherri:I-entity_name to:O my:B-playlist_owner Meditate:B-playlist to:I-playlist Sounds:I-playlist of:I-playlist Nature:I-playlist playlist:O <=> AddToPlaylist',\n",
              " 'put:O United:B-entity_name Abominations:I-entity_name onto:O my:B-playlist_owner rare:B-playlist groove:I-playlist playlist:O <=> AddToPlaylist',\n",
              " 'add:O the:O tune:B-music_item by:O misato:B-artist watanabe:I-artist to:O the:O Trapeo:B-playlist playlist:O <=> AddToPlaylist',\n",
              " 'add:O this:O artist:B-music_item to:O my:B-playlist_owner this:B-playlist is:I-playlist miguel:I-playlist bosé:I-playlist playlist:O <=> AddToPlaylist',\n",
              " 'add:O heresy:B-entity_name and:I-entity_name the:I-entity_name hotel:I-entity_name choir:I-entity_name to:O the:O evening:B-playlist acoustic:I-playlist playlist:O <=> AddToPlaylist']"
            ]
          },
          "execution_count": 7,
          "metadata": {},
          "output_type": "execute_result"
        }
      ],
      "source": [
        "lines_train = Path(\"train\").read_text(\"utf-8\").strip().splitlines()\n",
        "lines_train[:5]"
      ]
    },
    {
      "cell_type": "markdown",
      "metadata": {
        "id": "ezTIAec5jNlq"
      },
      "source": [
        "Some remarks:\n",
        "\n",
        "- The class label for the voice command appears at the end of each line (after the \"<=>\" marker).\n",
        "- Each word-level token is annotated with B-I-O labels using the \":\" separator.\n",
        "- B/I/O stand for \"Beginning\" / \"Inside\" / \"Outside\"\n",
        "- \"Add:O\" means that the token \"Add\" is \"Outside\" of any annotation span\n",
        "- \"Don:B-entity_name\" means that \"Don\" is the \"Beginning\" of an annotation of type \"entity-name\".\n",
        "- \"and:I-entity_name\" means that \"and\" is \"Inside\" the previously started annotation of type \"entity-name\".\n",
        "\n",
        "\n",
        "Let's write a parsing function and test it on the first line:"
      ]
    },
    {
      "cell_type": "code",
      "execution_count": 8,
      "metadata": {
        "id": "PMzOqdGRWP2u"
      },
      "outputs": [],
      "source": [
        "def parse_line(line):\n",
        "    utterance_data, intent_label = line.split(\" <=> \")\n",
        "    items = utterance_data.split()\n",
        "    words = [item.rsplit(\":\", 1)[0]for item in items]\n",
        "    word_labels = [item.rsplit(\":\", 1)[1]for item in items]\n",
        "    return {\n",
        "        \"intent_label\": intent_label,\n",
        "        \"words\": \" \".join(words),\n",
        "        \"word_labels\": \" \".join(word_labels),\n",
        "        \"length\": len(words),\n",
        "    }"
      ]
    },
    {
      "cell_type": "code",
      "execution_count": 9,
      "metadata": {
        "colab": {
          "base_uri": "https://localhost:8080/"
        },
        "id": "-Sg-hZOJXUPG",
        "outputId": "635c3bc4-e208-4569-bfed-6f46cefa0458"
      },
      "outputs": [
        {
          "data": {
            "text/plain": [
              "{'intent_label': 'AddToPlaylist',\n",
              " 'words': 'Add Don and Sherri to my Meditate to Sounds of Nature playlist',\n",
              " 'word_labels': 'O B-entity_name I-entity_name I-entity_name O B-playlist_owner B-playlist I-playlist I-playlist I-playlist I-playlist O',\n",
              " 'length': 12}"
            ]
          },
          "execution_count": 9,
          "metadata": {},
          "output_type": "execute_result"
        }
      ],
      "source": [
        "parse_line(lines_train[0])"
      ]
    },
    {
      "cell_type": "markdown",
      "metadata": {
        "id": "hQAwISaFX0zZ"
      },
      "source": [
        "This utterance is a voice command of type \"AddToPlaylist\" with to annotations:\n",
        "\n",
        "- an entity-name: \"Don and Sherri\",\n",
        "- a playlist: \"Medidate to Sounds of Nature\".\n",
        "\n",
        "\n",
        "The goal of this project is to build a baseline Natural Understanding model to analyse such voice commands and predict:\n",
        "\n",
        "- the intent of the speaker: the sentence level class label (\"AddToPlaylist\");\n",
        "- extract the interesting \"slots\" (typed named entities) from the sentence by performing word level classification using the B-I-O tags as target classes. This second task is often referred to as \"NER\" (Named Entity Recognition) in the Natural Language Processing literature. Alternatively this is also known as \"slot filling\" when we expect a fixed set of named entity per sentence of a given class.\n",
        "\n",
        "The list of possible classes for the sentence level and the word level classification problems are given as:\n",
        "\n",
        "\n"
      ]
    },
    {
      "cell_type": "code",
      "execution_count": 10,
      "metadata": {
        "colab": {
          "base_uri": "https://localhost:8080/"
        },
        "id": "q98BNyqOmM1b",
        "outputId": "16911831-ea54-4895-92f5-cc2c07042b1a"
      },
      "outputs": [
        {
          "name": "stdout",
          "output_type": "stream",
          "text": [
            "AddToPlaylist\n",
            "BookRestaurant\n",
            "GetWeather\n",
            "PlayMusic\n",
            "RateBook\n",
            "SearchCreativeWork\n",
            "SearchScreeningEvent\n",
            "\n"
          ]
        }
      ],
      "source": [
        "print(Path(\"vocab.intent\").read_text(\"utf-8\"))"
      ]
    },
    {
      "cell_type": "code",
      "execution_count": 11,
      "metadata": {
        "colab": {
          "base_uri": "https://localhost:8080/"
        },
        "id": "u3h7lLfDmXyn",
        "outputId": "8afa77a3-d7ed-4d23-8074-e6b960457d7a"
      },
      "outputs": [
        {
          "name": "stdout",
          "output_type": "stream",
          "text": [
            "B-album\n",
            "B-artist\n",
            "B-best_rating\n",
            "B-city\n",
            "B-condition_description\n",
            "B-condition_temperature\n",
            "B-country\n",
            "B-cuisine\n",
            "B-current_location\n",
            "B-entity_name\n",
            "B-facility\n",
            "B-genre\n",
            "B-geographic_poi\n",
            "B-location_name\n",
            "B-movie_name\n",
            "B-movie_type\n",
            "B-music_item\n",
            "B-object_location_type\n",
            "B-object_name\n",
            "B-object_part_of_series_type\n",
            "B-object_select\n",
            "B-object_type\n",
            "B-party_size_description\n",
            "B-party_size_number\n",
            "B-playlist\n",
            "B-playlist_owner\n",
            "B-poi\n",
            "B-rating_unit\n",
            "B-rating_value\n",
            "B-restaurant_name\n",
            "B-restaurant_type\n",
            "B-served_dish\n",
            "B-service\n",
            "B-sort\n",
            "B-spatial_relation\n",
            "B-state\n",
            "B-timeRange\n",
            "B-track\n",
            "B-year\n",
            "I-album\n",
            "I-artist\n",
            "I-city\n",
            "I-country\n",
            "I-cuisine\n",
            "I-current_location\n",
            "I-entity_name\n",
            "I-facility\n",
            "I-genre\n",
            "I-geographic_poi\n",
            "I-location_name\n",
            "I-movie_name\n",
            "I-movie_type\n",
            "I-music_item\n",
            "I-object_location_type\n",
            "I-object_name\n",
            "I-object_part_of_series_type\n",
            "I-object_select\n",
            "I-object_type\n",
            "I-party_size_description\n",
            "I-playlist\n",
            "I-playlist_owner\n",
            "I-poi\n",
            "I-restaurant_name\n",
            "I-restaurant_type\n",
            "I-served_dish\n",
            "I-service\n",
            "I-sort\n",
            "I-spatial_relation\n",
            "I-state\n",
            "I-timeRange\n",
            "I-track\n",
            "O\n",
            "\n"
          ]
        }
      ],
      "source": [
        "print(Path(\"vocab.slot\").read_text(\"utf-8\"))"
      ]
    },
    {
      "cell_type": "markdown",
      "metadata": {
        "id": "aIflBkyomf9R"
      },
      "source": [
        "Let's parse all the lines and store the results in pandas DataFrames:"
      ]
    },
    {
      "cell_type": "code",
      "execution_count": 12,
      "metadata": {
        "colab": {
          "base_uri": "https://localhost:8080/",
          "height": 424
        },
        "id": "rI3gFdEvQvbG",
        "outputId": "6b6341cd-c008-422a-c0f1-316566f2693d"
      },
      "outputs": [
        {
          "data": {
            "text/html": [
              "<div>\n",
              "<style scoped>\n",
              "    .dataframe tbody tr th:only-of-type {\n",
              "        vertical-align: middle;\n",
              "    }\n",
              "\n",
              "    .dataframe tbody tr th {\n",
              "        vertical-align: top;\n",
              "    }\n",
              "\n",
              "    .dataframe thead th {\n",
              "        text-align: right;\n",
              "    }\n",
              "</style>\n",
              "<table border=\"1\" class=\"dataframe\">\n",
              "  <thead>\n",
              "    <tr style=\"text-align: right;\">\n",
              "      <th></th>\n",
              "      <th>intent_label</th>\n",
              "      <th>words</th>\n",
              "      <th>word_labels</th>\n",
              "      <th>length</th>\n",
              "    </tr>\n",
              "  </thead>\n",
              "  <tbody>\n",
              "    <tr>\n",
              "      <th>0</th>\n",
              "      <td>AddToPlaylist</td>\n",
              "      <td>Add Don and Sherri to my Meditate to Sounds of...</td>\n",
              "      <td>O B-entity_name I-entity_name I-entity_name O ...</td>\n",
              "      <td>12</td>\n",
              "    </tr>\n",
              "    <tr>\n",
              "      <th>1</th>\n",
              "      <td>AddToPlaylist</td>\n",
              "      <td>put United Abominations onto my rare groove pl...</td>\n",
              "      <td>O B-entity_name I-entity_name O B-playlist_own...</td>\n",
              "      <td>8</td>\n",
              "    </tr>\n",
              "    <tr>\n",
              "      <th>2</th>\n",
              "      <td>AddToPlaylist</td>\n",
              "      <td>add the tune by misato watanabe to the Trapeo ...</td>\n",
              "      <td>O O B-music_item O B-artist I-artist O O B-pla...</td>\n",
              "      <td>10</td>\n",
              "    </tr>\n",
              "    <tr>\n",
              "      <th>3</th>\n",
              "      <td>AddToPlaylist</td>\n",
              "      <td>add this artist to my this is miguel bosé play...</td>\n",
              "      <td>O O B-music_item O B-playlist_owner B-playlist...</td>\n",
              "      <td>10</td>\n",
              "    </tr>\n",
              "    <tr>\n",
              "      <th>4</th>\n",
              "      <td>AddToPlaylist</td>\n",
              "      <td>add heresy and the hotel choir to the evening ...</td>\n",
              "      <td>O B-entity_name I-entity_name I-entity_name I-...</td>\n",
              "      <td>11</td>\n",
              "    </tr>\n",
              "    <tr>\n",
              "      <th>...</th>\n",
              "      <td>...</td>\n",
              "      <td>...</td>\n",
              "      <td>...</td>\n",
              "      <td>...</td>\n",
              "    </tr>\n",
              "    <tr>\n",
              "      <th>13079</th>\n",
              "      <td>SearchScreeningEvent</td>\n",
              "      <td>find a Consolidated Theatres showing The Good ...</td>\n",
              "      <td>O O B-location_name I-location_name O B-movie_...</td>\n",
              "      <td>10</td>\n",
              "    </tr>\n",
              "    <tr>\n",
              "      <th>13080</th>\n",
              "      <td>SearchScreeningEvent</td>\n",
              "      <td>where can i see animated movies in the neighbo...</td>\n",
              "      <td>O O O O B-movie_type I-movie_type B-spatial_re...</td>\n",
              "      <td>9</td>\n",
              "    </tr>\n",
              "    <tr>\n",
              "      <th>13081</th>\n",
              "      <td>SearchScreeningEvent</td>\n",
              "      <td>Showtimes for animated movies in the area .</td>\n",
              "      <td>O O B-movie_type I-movie_type B-spatial_relati...</td>\n",
              "      <td>8</td>\n",
              "    </tr>\n",
              "    <tr>\n",
              "      <th>13082</th>\n",
              "      <td>SearchScreeningEvent</td>\n",
              "      <td>Which animated movies are playing at Megaplex ...</td>\n",
              "      <td>O B-movie_type I-movie_type O O O B-location_n...</td>\n",
              "      <td>11</td>\n",
              "    </tr>\n",
              "    <tr>\n",
              "      <th>13083</th>\n",
              "      <td>SearchScreeningEvent</td>\n",
              "      <td>What movie schedules start at sunset ?</td>\n",
              "      <td>O B-object_type I-object_type O O B-timeRange O</td>\n",
              "      <td>7</td>\n",
              "    </tr>\n",
              "  </tbody>\n",
              "</table>\n",
              "<p>13084 rows × 4 columns</p>\n",
              "</div>"
            ],
            "text/plain": [
              "               intent_label  \\\n",
              "0             AddToPlaylist   \n",
              "1             AddToPlaylist   \n",
              "2             AddToPlaylist   \n",
              "3             AddToPlaylist   \n",
              "4             AddToPlaylist   \n",
              "...                     ...   \n",
              "13079  SearchScreeningEvent   \n",
              "13080  SearchScreeningEvent   \n",
              "13081  SearchScreeningEvent   \n",
              "13082  SearchScreeningEvent   \n",
              "13083  SearchScreeningEvent   \n",
              "\n",
              "                                                   words  \\\n",
              "0      Add Don and Sherri to my Meditate to Sounds of...   \n",
              "1      put United Abominations onto my rare groove pl...   \n",
              "2      add the tune by misato watanabe to the Trapeo ...   \n",
              "3      add this artist to my this is miguel bosé play...   \n",
              "4      add heresy and the hotel choir to the evening ...   \n",
              "...                                                  ...   \n",
              "13079  find a Consolidated Theatres showing The Good ...   \n",
              "13080  where can i see animated movies in the neighbo...   \n",
              "13081        Showtimes for animated movies in the area .   \n",
              "13082  Which animated movies are playing at Megaplex ...   \n",
              "13083             What movie schedules start at sunset ?   \n",
              "\n",
              "                                             word_labels  length  \n",
              "0      O B-entity_name I-entity_name I-entity_name O ...      12  \n",
              "1      O B-entity_name I-entity_name O B-playlist_own...       8  \n",
              "2      O O B-music_item O B-artist I-artist O O B-pla...      10  \n",
              "3      O O B-music_item O B-playlist_owner B-playlist...      10  \n",
              "4      O B-entity_name I-entity_name I-entity_name I-...      11  \n",
              "...                                                  ...     ...  \n",
              "13079  O O B-location_name I-location_name O B-movie_...      10  \n",
              "13080  O O O O B-movie_type I-movie_type B-spatial_re...       9  \n",
              "13081  O O B-movie_type I-movie_type B-spatial_relati...       8  \n",
              "13082  O B-movie_type I-movie_type O O O B-location_n...      11  \n",
              "13083    O B-object_type I-object_type O O B-timeRange O       7  \n",
              "\n",
              "[13084 rows x 4 columns]"
            ]
          },
          "execution_count": 12,
          "metadata": {},
          "output_type": "execute_result"
        }
      ],
      "source": [
        "import pandas as pd\n",
        "\n",
        "parsed = [parse_line(line) for line in lines_train]\n",
        "\n",
        "df_train = pd.DataFrame([p for p in parsed if p is not None])\n",
        "df_train"
      ]
    },
    {
      "cell_type": "code",
      "execution_count": 13,
      "metadata": {
        "colab": {
          "base_uri": "https://localhost:8080/",
          "height": 424
        },
        "id": "3_GM_JxEVoMH",
        "outputId": "7b3918f7-c3f5-4c5d-ab6c-947fa843a6fd"
      },
      "outputs": [
        {
          "data": {
            "text/html": [
              "<div>\n",
              "<style scoped>\n",
              "    .dataframe tbody tr th:only-of-type {\n",
              "        vertical-align: middle;\n",
              "    }\n",
              "\n",
              "    .dataframe tbody tr th {\n",
              "        vertical-align: top;\n",
              "    }\n",
              "\n",
              "    .dataframe thead th {\n",
              "        text-align: right;\n",
              "    }\n",
              "</style>\n",
              "<table border=\"1\" class=\"dataframe\">\n",
              "  <thead>\n",
              "    <tr style=\"text-align: right;\">\n",
              "      <th></th>\n",
              "      <th>intent_label</th>\n",
              "      <th>words</th>\n",
              "      <th>word_labels</th>\n",
              "      <th>length</th>\n",
              "    </tr>\n",
              "  </thead>\n",
              "  <tbody>\n",
              "    <tr>\n",
              "      <th>0</th>\n",
              "      <td>AddToPlaylist</td>\n",
              "      <td>Add Don and Sherri to my Meditate to Sounds of...</td>\n",
              "      <td>O B-entity_name I-entity_name I-entity_name O ...</td>\n",
              "      <td>12</td>\n",
              "    </tr>\n",
              "    <tr>\n",
              "      <th>1</th>\n",
              "      <td>AddToPlaylist</td>\n",
              "      <td>put United Abominations onto my rare groove pl...</td>\n",
              "      <td>O B-entity_name I-entity_name O B-playlist_own...</td>\n",
              "      <td>8</td>\n",
              "    </tr>\n",
              "    <tr>\n",
              "      <th>2</th>\n",
              "      <td>AddToPlaylist</td>\n",
              "      <td>add the tune by misato watanabe to the Trapeo ...</td>\n",
              "      <td>O O B-music_item O B-artist I-artist O O B-pla...</td>\n",
              "      <td>10</td>\n",
              "    </tr>\n",
              "    <tr>\n",
              "      <th>3</th>\n",
              "      <td>AddToPlaylist</td>\n",
              "      <td>add this artist to my this is miguel bosé play...</td>\n",
              "      <td>O O B-music_item O B-playlist_owner B-playlist...</td>\n",
              "      <td>10</td>\n",
              "    </tr>\n",
              "    <tr>\n",
              "      <th>4</th>\n",
              "      <td>AddToPlaylist</td>\n",
              "      <td>add heresy and the hotel choir to the evening ...</td>\n",
              "      <td>O B-entity_name I-entity_name I-entity_name I-...</td>\n",
              "      <td>11</td>\n",
              "    </tr>\n",
              "    <tr>\n",
              "      <th>...</th>\n",
              "      <td>...</td>\n",
              "      <td>...</td>\n",
              "      <td>...</td>\n",
              "      <td>...</td>\n",
              "    </tr>\n",
              "    <tr>\n",
              "      <th>13079</th>\n",
              "      <td>SearchScreeningEvent</td>\n",
              "      <td>find a Consolidated Theatres showing The Good ...</td>\n",
              "      <td>O O B-location_name I-location_name O B-movie_...</td>\n",
              "      <td>10</td>\n",
              "    </tr>\n",
              "    <tr>\n",
              "      <th>13080</th>\n",
              "      <td>SearchScreeningEvent</td>\n",
              "      <td>where can i see animated movies in the neighbo...</td>\n",
              "      <td>O O O O B-movie_type I-movie_type B-spatial_re...</td>\n",
              "      <td>9</td>\n",
              "    </tr>\n",
              "    <tr>\n",
              "      <th>13081</th>\n",
              "      <td>SearchScreeningEvent</td>\n",
              "      <td>Showtimes for animated movies in the area .</td>\n",
              "      <td>O O B-movie_type I-movie_type B-spatial_relati...</td>\n",
              "      <td>8</td>\n",
              "    </tr>\n",
              "    <tr>\n",
              "      <th>13082</th>\n",
              "      <td>SearchScreeningEvent</td>\n",
              "      <td>Which animated movies are playing at Megaplex ...</td>\n",
              "      <td>O B-movie_type I-movie_type O O O B-location_n...</td>\n",
              "      <td>11</td>\n",
              "    </tr>\n",
              "    <tr>\n",
              "      <th>13083</th>\n",
              "      <td>SearchScreeningEvent</td>\n",
              "      <td>What movie schedules start at sunset ?</td>\n",
              "      <td>O B-object_type I-object_type O O B-timeRange O</td>\n",
              "      <td>7</td>\n",
              "    </tr>\n",
              "  </tbody>\n",
              "</table>\n",
              "<p>13084 rows × 4 columns</p>\n",
              "</div>"
            ],
            "text/plain": [
              "               intent_label  \\\n",
              "0             AddToPlaylist   \n",
              "1             AddToPlaylist   \n",
              "2             AddToPlaylist   \n",
              "3             AddToPlaylist   \n",
              "4             AddToPlaylist   \n",
              "...                     ...   \n",
              "13079  SearchScreeningEvent   \n",
              "13080  SearchScreeningEvent   \n",
              "13081  SearchScreeningEvent   \n",
              "13082  SearchScreeningEvent   \n",
              "13083  SearchScreeningEvent   \n",
              "\n",
              "                                                   words  \\\n",
              "0      Add Don and Sherri to my Meditate to Sounds of...   \n",
              "1      put United Abominations onto my rare groove pl...   \n",
              "2      add the tune by misato watanabe to the Trapeo ...   \n",
              "3      add this artist to my this is miguel bosé play...   \n",
              "4      add heresy and the hotel choir to the evening ...   \n",
              "...                                                  ...   \n",
              "13079  find a Consolidated Theatres showing The Good ...   \n",
              "13080  where can i see animated movies in the neighbo...   \n",
              "13081        Showtimes for animated movies in the area .   \n",
              "13082  Which animated movies are playing at Megaplex ...   \n",
              "13083             What movie schedules start at sunset ?   \n",
              "\n",
              "                                             word_labels  length  \n",
              "0      O B-entity_name I-entity_name I-entity_name O ...      12  \n",
              "1      O B-entity_name I-entity_name O B-playlist_own...       8  \n",
              "2      O O B-music_item O B-artist I-artist O O B-pla...      10  \n",
              "3      O O B-music_item O B-playlist_owner B-playlist...      10  \n",
              "4      O B-entity_name I-entity_name I-entity_name I-...      11  \n",
              "...                                                  ...     ...  \n",
              "13079  O O B-location_name I-location_name O B-movie_...      10  \n",
              "13080  O O O O B-movie_type I-movie_type B-spatial_re...       9  \n",
              "13081  O O B-movie_type I-movie_type B-spatial_relati...       8  \n",
              "13082  O B-movie_type I-movie_type O O O B-location_n...      11  \n",
              "13083    O B-object_type I-object_type O O B-timeRange O       7  \n",
              "\n",
              "[13084 rows x 4 columns]"
            ]
          },
          "execution_count": 13,
          "metadata": {},
          "output_type": "execute_result"
        }
      ],
      "source": [
        "df_train"
      ]
    },
    {
      "cell_type": "code",
      "execution_count": 14,
      "metadata": {
        "colab": {
          "base_uri": "https://localhost:8080/",
          "height": 300
        },
        "id": "wnu1f-TVuDa7",
        "outputId": "73c03d0d-a1ba-4f69-bc7c-620d91b76978"
      },
      "outputs": [
        {
          "data": {
            "text/html": [
              "<div>\n",
              "<style scoped>\n",
              "    .dataframe tbody tr th:only-of-type {\n",
              "        vertical-align: middle;\n",
              "    }\n",
              "\n",
              "    .dataframe tbody tr th {\n",
              "        vertical-align: top;\n",
              "    }\n",
              "\n",
              "    .dataframe thead th {\n",
              "        text-align: right;\n",
              "    }\n",
              "</style>\n",
              "<table border=\"1\" class=\"dataframe\">\n",
              "  <thead>\n",
              "    <tr style=\"text-align: right;\">\n",
              "      <th></th>\n",
              "      <th>words</th>\n",
              "      <th>word_labels</th>\n",
              "      <th>length</th>\n",
              "    </tr>\n",
              "    <tr>\n",
              "      <th>intent_label</th>\n",
              "      <th></th>\n",
              "      <th></th>\n",
              "      <th></th>\n",
              "    </tr>\n",
              "  </thead>\n",
              "  <tbody>\n",
              "    <tr>\n",
              "      <th>AddToPlaylist</th>\n",
              "      <td>1842</td>\n",
              "      <td>1842</td>\n",
              "      <td>1842</td>\n",
              "    </tr>\n",
              "    <tr>\n",
              "      <th>BookRestaurant</th>\n",
              "      <td>1873</td>\n",
              "      <td>1873</td>\n",
              "      <td>1873</td>\n",
              "    </tr>\n",
              "    <tr>\n",
              "      <th>GetWeather</th>\n",
              "      <td>1900</td>\n",
              "      <td>1900</td>\n",
              "      <td>1900</td>\n",
              "    </tr>\n",
              "    <tr>\n",
              "      <th>PlayMusic</th>\n",
              "      <td>1900</td>\n",
              "      <td>1900</td>\n",
              "      <td>1900</td>\n",
              "    </tr>\n",
              "    <tr>\n",
              "      <th>RateBook</th>\n",
              "      <td>1856</td>\n",
              "      <td>1856</td>\n",
              "      <td>1856</td>\n",
              "    </tr>\n",
              "    <tr>\n",
              "      <th>SearchCreativeWork</th>\n",
              "      <td>1854</td>\n",
              "      <td>1854</td>\n",
              "      <td>1854</td>\n",
              "    </tr>\n",
              "    <tr>\n",
              "      <th>SearchScreeningEvent</th>\n",
              "      <td>1859</td>\n",
              "      <td>1859</td>\n",
              "      <td>1859</td>\n",
              "    </tr>\n",
              "  </tbody>\n",
              "</table>\n",
              "</div>"
            ],
            "text/plain": [
              "                      words  word_labels  length\n",
              "intent_label                                    \n",
              "AddToPlaylist          1842         1842    1842\n",
              "BookRestaurant         1873         1873    1873\n",
              "GetWeather             1900         1900    1900\n",
              "PlayMusic              1900         1900    1900\n",
              "RateBook               1856         1856    1856\n",
              "SearchCreativeWork     1854         1854    1854\n",
              "SearchScreeningEvent   1859         1859    1859"
            ]
          },
          "execution_count": 14,
          "metadata": {},
          "output_type": "execute_result"
        }
      ],
      "source": [
        "df_train.groupby(\"intent_label\").count()"
      ]
    },
    {
      "cell_type": "code",
      "execution_count": 15,
      "metadata": {},
      "outputs": [
        {
          "name": "stdout",
          "output_type": "stream",
          "text": [
            "Max sentence length: 35\n",
            "Avg sentence length: 9.142693365943137\n",
            "Unique slot tags: 72\n"
          ]
        }
      ],
      "source": [
        "print(\"Max sentence length:\", df_train['length'].max())\n",
        "print(\"Avg sentence length:\", df_train['length'].mean())\n",
        "print(\"Unique slot tags:\", df_train['word_labels'].str.split().explode().nunique())"
      ]
    },
    {
      "cell_type": "markdown",
      "metadata": {},
      "source": [
        "As the max sentence length is 35 we set max_seq_length to 32 to ensure coverage and memory usage.It optimizes the model's input pipeline with reduced max token length to lower memory usage and increase inference speed.\n",
        "Avg Sentence Length: 9.14 Smaller sequences → faster training, fewer padding tokens, and less wasted GPU compute.\n"
      ]
    },
    {
      "cell_type": "code",
      "execution_count": 16,
      "metadata": {},
      "outputs": [
        {
          "data": {
            "text/plain": [
              "<Axes: title={'center': 'Intent Distribution'}, xlabel='intent_label'>"
            ]
          },
          "execution_count": 16,
          "metadata": {},
          "output_type": "execute_result"
        },
        {
          "data": {
            "image/png": "[encoded data removed]",
            "text/plain": [
              "<Figure size 640x480 with 1 Axes>"
            ]
          },
          "metadata": {},
          "output_type": "display_data"
        }
      ],
      "source": [
        "df_train['intent_label'].value_counts().plot(kind='bar', title='Intent Distribution')"
      ]
    },
    {
      "cell_type": "markdown",
      "metadata": {},
      "source": [
        "Before model training, I explored the intent distribution and found it to be highly balanced across all 7 classes. This meant I didn't need to apply any class balancing techniques, which simplified training and improved model reliability. I also ensured that slot distribution was handled separately to account for class-specific slot types."
      ]
    },
    {
      "cell_type": "code",
      "execution_count": 17,
      "metadata": {},
      "outputs": [
        {
          "data": {
            "text/plain": [
              "<Axes: title={'center': 'Top 20 Slot Tags'}>"
            ]
          },
          "execution_count": 17,
          "metadata": {},
          "output_type": "execute_result"
        },
        {
          "data": {
            "image/png": "[encoded data removed]",
            "text/plain": [
              "<Figure size 640x480 with 1 Axes>"
            ]
          },
          "metadata": {},
          "output_type": "display_data"
        }
      ],
      "source": [
        "from collections import Counter\n",
        "all_slots = df_train['word_labels'].str.split().explode()\n",
        "slot_counts = Counter(all_slots)\n",
        "pd.Series(slot_counts).sort_values(ascending=False).head(20).plot(kind='bar', title='Top 20 Slot Tags')"
      ]
    },
    {
      "cell_type": "markdown",
      "metadata": {},
      "source": [
        "Even if the data highly unbalanced towatds O we optimize learning across all slot types:\n",
        "\n",
        "Used a custom MaskedF1Score metric to ignore padded tokens during F1 evaluation\n",
        "\n",
        "Computed F1 per slot class to better track performance on underrepresented labels"
      ]
    },
    {
      "cell_type": "code",
      "execution_count": 19,
      "metadata": {
        "id": "GP9IFg7KZZb4"
      },
      "outputs": [],
      "source": [
        "lines_valid = Path(\"valid\").read_text(\"utf-8\").strip().splitlines()\n",
        "lines_test = Path(\"test\").read_text(\"utf-8\").strip().splitlines()\n",
        "\n",
        "df_valid = pd.DataFrame([parse_line(line) for line in lines_valid])\n",
        "df_test = pd.DataFrame([parse_line(line) for line in lines_test])"
      ]
    },
    {
      "cell_type": "markdown",
      "metadata": {
        "id": "8-RqFpLgqI6u"
      },
      "source": [
        "\n",
        "## A First Model: Intent Classification (Sentence Level)\n",
        "\n",
        "Let’s ignore the slot filling task for now and focus on building a sentence-level intent classifier by fine-tuning a lightweight Transformer-based model: DistilBERT. This is a distilled version of BERT that retains ~97% of BERT's performance but is 60% faster and 40% smaller — perfect for running on a GPU like the RTX 3050 with low-latency goals.\n",
        "\n",
        "We will use the transformers library by Hugging Face, and load the tokenizer first and then the model itself."
      ]
    },
    {
      "cell_type": "code",
      "execution_count": 20,
      "metadata": {
        "id": "8waNlSO-tkkP"
      },
      "outputs": [
        {
          "name": "stderr",
          "output_type": "stream",
          "text": [
            "c:\\Users\\SHYAMDEVADIGA\\miniconda3\\envs\\distilbert\\lib\\site-packages\\huggingface_hub\\file_download.py:943: FutureWarning: `resume_download` is deprecated and will be removed in version 1.0.0. Downloads always resume when possible. If you want to force a new download, use `force_download=True`.\n",
            "  warnings.warn(\n"
          ]
        }
      ],
      "source": [
        "from transformers import DistilBertTokenizerFast\n",
        "model_name = \"distilbert-base-uncased\"\n",
        "tokenizer = DistilBertTokenizerFast.from_pretrained(model_name)"
      ]
    },
    {
      "cell_type": "code",
      "execution_count": 21,
      "metadata": {
        "colab": {
          "base_uri": "https://localhost:8080/",
          "height": 35
        },
        "id": "kfIeG0rvuywQ",
        "outputId": "ee7122fe-641a-4891-a830-b07243926da7"
      },
      "outputs": [
        {
          "data": {
            "text/plain": [
              "'Add Don and Sherri to my Meditate to Sounds of Nature playlist'"
            ]
          },
          "execution_count": 21,
          "metadata": {},
          "output_type": "execute_result"
        }
      ],
      "source": [
        "first_sentence = df_train.iloc[0][\"words\"]\n",
        "first_sentence"
      ]
    },
    {
      "cell_type": "code",
      "execution_count": 22,
      "metadata": {
        "colab": {
          "base_uri": "https://localhost:8080/"
        },
        "id": "T1NdNH7btohS",
        "outputId": "c8382dc1-f08c-4d32-ff4c-65257abd06be"
      },
      "outputs": [
        {
          "data": {
            "text/plain": [
              "['add',\n",
              " 'don',\n",
              " 'and',\n",
              " 'she',\n",
              " '##rri',\n",
              " 'to',\n",
              " 'my',\n",
              " 'med',\n",
              " '##itate',\n",
              " 'to',\n",
              " 'sounds',\n",
              " 'of',\n",
              " 'nature',\n",
              " 'play',\n",
              " '##list']"
            ]
          },
          "execution_count": 22,
          "metadata": {},
          "output_type": "execute_result"
        }
      ],
      "source": [
        "tokenizer.tokenize(first_sentence)"
      ]
    },
    {
      "cell_type": "markdown",
      "metadata": {
        "id": "mV0nkrwDvVlc"
      },
      "source": [
        "Notice that DistilBERT uses subword tokenization, so the tokenized sentence is often longer than the original. This is because rare or unknown words are split into smaller, known subunits, enabling the model to handle out-of-vocabulary words, reduce vocabulary size, and capture morphological meaning.\n",
        "\n",
        "Each subword token is then mapped to a unique integer ID, allowing fast retrieval of its vector from the model's embedding layer, which serves as the input to the transformer network"
      ]
    },
    {
      "cell_type": "code",
      "execution_count": 23,
      "metadata": {
        "colab": {
          "base_uri": "https://localhost:8080/"
        },
        "id": "RwsN-er9nsOu",
        "outputId": "5e3dc5dc-c219-4980-c0ba-a7c33d136ace"
      },
      "outputs": [
        {
          "data": {
            "text/plain": [
              "[101,\n",
              " 5587,\n",
              " 2123,\n",
              " 1998,\n",
              " 2016,\n",
              " 18752,\n",
              " 2000,\n",
              " 2026,\n",
              " 19960,\n",
              " 17570,\n",
              " 2000,\n",
              " 4165,\n",
              " 1997,\n",
              " 3267,\n",
              " 2377,\n",
              " 9863,\n",
              " 102]"
            ]
          },
          "execution_count": 23,
          "metadata": {},
          "output_type": "execute_result"
        }
      ],
      "source": [
        "tokenizer.encode(first_sentence)"
      ]
    },
    {
      "cell_type": "code",
      "execution_count": 24,
      "metadata": {
        "colab": {
          "base_uri": "https://localhost:8080/",
          "height": 35
        },
        "id": "ugYcq8YWl8Hz",
        "outputId": "879b8fa4-2ffb-4790-d257-798d4f3f9e5e"
      },
      "outputs": [
        {
          "data": {
            "text/plain": [
              "'[CLS] add don and sherri to my meditate to sounds of nature playlist [SEP]'"
            ]
          },
          "execution_count": 24,
          "metadata": {},
          "output_type": "execute_result"
        }
      ],
      "source": [
        "tokenizer.decode(tokenizer.encode(first_sentence))"
      ]
    },
    {
      "cell_type": "markdown",
      "metadata": {
        "id": "DXvGt8fAmW6o"
      },
      "source": [
        "Remarks:\n",
        "\n",
        "- The first token `[CLS]` is used by the pre-training task for sequence classification.\n",
        "- The last token `[SEP]` is a separator for the pre-training task that classifiies if a pair of sentences are consecutive in a corpus or not (next sentence prediction).\n",
        "- Here we want to use BERT to compute a representation of a single voice command at a time\n",
        "- We could reuse the representation of the `[CLS]` token for sequence classification.\n",
        "- Alternatively we can pool the representations of all the tokens of the voice command (e.g. global average) and use that as the input of the final sequence classification layer."
      ]
    },
    {
      "cell_type": "code",
      "execution_count": 25,
      "metadata": {
        "colab": {
          "base_uri": "https://localhost:8080/",
          "height": 281
        },
        "id": "HDRfHq45uXtE",
        "outputId": "d1bc367e-ebdb-48b5-dce6-14e07559f6a5"
      },
      "outputs": [
        {
          "data": {
            "image/png": "[encoded data removed]",
            "text/plain": [
              "<Figure size 640x480 with 1 Axes>"
            ]
          },
          "metadata": {},
          "output_type": "display_data"
        }
      ],
      "source": [
        "import matplotlib.pyplot as plt\n",
        "\n",
        "train_sequence_lengths = [len(tokenizer.encode(text))\n",
        "                          for text in df_train[\"words\"]]\n",
        "plt.hist(train_sequence_lengths, bins=30)\n",
        "plt.title(f\"max sequence length: {max(train_sequence_lengths)}\");"
      ]
    },
    {
      "cell_type": "markdown",
      "metadata": {
        "id": "MKOfepFGnja_"
      },
      "source": [
        "After tokenizing the dataset with DistilBERT’s tokenizer, I found the maximum input sequence length to be 41 tokens. However, over 99% of inputs were under 32 tokens. I leveraged this insight to cap the max_length at 32, reducing GPU memory consumption and increasing inference speed — which was critical for my latency-optimized deployment on an RTX 3050"
      ]
    },
    {
      "cell_type": "markdown",
      "metadata": {
        "id": "e80rCfLZo0ms"
      },
      "source": [
        "The mapping can be introspected in the `tokenizer.vocab` attribute:"
      ]
    },
    {
      "cell_type": "code",
      "execution_count": 26,
      "metadata": {
        "colab": {
          "base_uri": "https://localhost:8080/"
        },
        "id": "UCOHf8d0whpc",
        "outputId": "4339eef5-69e3-4b49-e730-3442bb0f4d82"
      },
      "outputs": [
        {
          "data": {
            "text/plain": [
              "30522"
            ]
          },
          "execution_count": 26,
          "metadata": {},
          "output_type": "execute_result"
        }
      ],
      "source": [
        "tokenizer.vocab_size"
      ]
    },
    {
      "cell_type": "code",
      "execution_count": 27,
      "metadata": {
        "colab": {
          "base_uri": "https://localhost:8080/"
        },
        "id": "pss68U70wAZz",
        "outputId": "1b1ae60d-ffa1-4db3-8ae2-e001d7b70082"
      },
      "outputs": [
        {
          "data": {
            "text/plain": [
              "[('meaningful', 15902),\n",
              " ('open', 2330),\n",
              " ('##ney', 5420),\n",
              " ('realms', 18814),\n",
              " ('folklore', 13104),\n",
              " ('##log', 21197),\n",
              " ('cradled', 23774),\n",
              " ('##uid', 21272),\n",
              " ('teaming', 27025),\n",
              " ('brien', 9848)]"
            ]
          },
          "execution_count": 27,
          "metadata": {},
          "output_type": "execute_result"
        }
      ],
      "source": [
        "distilbert_vocab_items = list(tokenizer.vocab.items())\n",
        "distilbert_vocab_items[:10]"
      ]
    },
    {
      "cell_type": "code",
      "execution_count": 28,
      "metadata": {
        "colab": {
          "base_uri": "https://localhost:8080/"
        },
        "id": "ubB7K2f5waCL",
        "outputId": "56cbd066-0646-4cb4-c7bc-3dac04668350"
      },
      "outputs": [
        {
          "data": {
            "text/plain": [
              "[('chang', 11132),\n",
              " ('##pkins', 29531),\n",
              " ('invites', 18675),\n",
              " ('cabinet', 5239),\n",
              " ('##an', 2319),\n",
              " ('escorted', 13127),\n",
              " ('##р', 16856),\n",
              " ('##tek', 23125),\n",
              " ('278', 24709),\n",
              " ('##sher', 19603)]"
            ]
          },
          "execution_count": 28,
          "metadata": {},
          "output_type": "execute_result"
        }
      ],
      "source": [
        "distilbert_vocab_items[100:110]"
      ]
    },
    {
      "cell_type": "code",
      "execution_count": 29,
      "metadata": {
        "colab": {
          "base_uri": "https://localhost:8080/"
        },
        "id": "bNO1Qaeywqfr",
        "outputId": "a413c1ca-365f-45ee-cfc7-7b1375f01d82"
      },
      "outputs": [
        {
          "data": {
            "text/plain": [
              "[('mahmud', 25886),\n",
              " ('illegally', 17800),\n",
              " ('doctor', 3460),\n",
              " ('##52', 25746),\n",
              " ('legislation', 6094),\n",
              " ('z', 1062),\n",
              " ('anyone', 3087),\n",
              " ('##hee', 21030),\n",
              " ('ornaments', 24005),\n",
              " ('##thor', 27844)]"
            ]
          },
          "execution_count": 29,
          "metadata": {},
          "output_type": "execute_result"
        }
      ],
      "source": [
        "distilbert_vocab_items[900:910]"
      ]
    },
    {
      "cell_type": "code",
      "execution_count": 30,
      "metadata": {
        "colab": {
          "base_uri": "https://localhost:8080/"
        },
        "id": "eMoPJlKDweL9",
        "outputId": "2ed31f93-46e7-4788-84c9-0a4d3697a3fd"
      },
      "outputs": [
        {
          "data": {
            "text/plain": [
              "[('##inated', 15833),\n",
              " ('ape', 23957),\n",
              " ('polka', 29499),\n",
              " ('arson', 24912),\n",
              " ('##zziness', 29212),\n",
              " ('barefoot', 22985),\n",
              " ('学', 1817),\n",
              " ('swindon', 22350),\n",
              " ('lilly', 14765),\n",
              " ('accompanying', 10860)]"
            ]
          },
          "execution_count": 30,
          "metadata": {},
          "output_type": "execute_result"
        }
      ],
      "source": [
        "distilbert_vocab_items[1100:1110]"
      ]
    },
    {
      "cell_type": "code",
      "execution_count": 31,
      "metadata": {
        "colab": {
          "base_uri": "https://localhost:8080/"
        },
        "id": "mKBIx7vFw4Y0",
        "outputId": "a4a66d70-3e41-4d4a-d02e-3c9b55337ba6"
      },
      "outputs": [
        {
          "data": {
            "text/plain": [
              "[('he', 2002),\n",
              " ('berth', 17064),\n",
              " ('johnson', 3779),\n",
              " ('rebels', 8431),\n",
              " ('lars', 16357),\n",
              " ('stopping', 7458),\n",
              " ('880', 26839),\n",
              " ('[unused930]', 935),\n",
              " ('bosnian', 16163),\n",
              " ('motorsport', 21044)]"
            ]
          },
          "execution_count": 31,
          "metadata": {},
          "output_type": "execute_result"
        }
      ],
      "source": [
        "distilbert_vocab_items[20000:20010]"
      ]
    },
    {
      "cell_type": "code",
      "execution_count": 32,
      "metadata": {
        "colab": {
          "base_uri": "https://localhost:8080/"
        },
        "id": "CFJWO27XwyZJ",
        "outputId": "62eae51c-3db7-461a-80f3-f5811a971af3"
      },
      "outputs": [
        {
          "data": {
            "text/plain": [
              "[('mal', 15451),\n",
              " ('tempest', 22553),\n",
              " ('##gan', 5289),\n",
              " ('##mme', 20058),\n",
              " ('bae', 25818),\n",
              " ('kruger', 27823),\n",
              " ('##tead', 14565),\n",
              " ('municipalities', 7602),\n",
              " ('##sp', 13102),\n",
              " ('##bots', 27014)]"
            ]
          },
          "execution_count": 32,
          "metadata": {},
          "output_type": "execute_result"
        }
      ],
      "source": [
        "distilbert_vocab_items[-10:]"
      ]
    },
    {
      "cell_type": "markdown",
      "metadata": {
        "id": "HjuoLlvexSZP"
      },
      "source": [
        "Couple of remarks:\n",
        "\n",
        "- 30K is a reasonable vocabulary size and is small enough to be used in a softmax output layer;\n",
        "- it can represent multi-lingual sentences, including non-Western alphabets;\n",
        "- subword tokenization makes it possible to deal with typos and morphological variations with a small vocabulary side and without any language-specific preprocessing;\n",
        "- subword tokenization makes it unlikely to use the `[UNK]` special token as rare words can often be represented as a sequence of frequent enough short subwords in a meaningful way."
      ]
    },
    {
      "cell_type": "markdown",
      "metadata": {
        "id": "q399LhkCjCa8"
      },
      "source": [
        "### Encoding the Dataset with the Tokenizer\n",
        "\n",
        "Let's now encode the full train / valid and test sets with our tokenizer to get a padded integer numpy arrays:"
      ]
    },
    {
      "cell_type": "code",
      "execution_count": 33,
      "metadata": {
        "colab": {
          "base_uri": "https://localhost:8080/"
        },
        "id": "KI7fXQKmpQFY",
        "outputId": "343cac02-45bf-4594-8256-bed1f7eec879"
      },
      "outputs": [
        {
          "data": {
            "text/plain": [
              "array([[  101,  5587,  2123, ...,     0,     0,     0],\n",
              "       [  101,  2404,  2142, ...,     0,     0,     0],\n",
              "       [  101,  5587,  1996, ...,     0,     0,     0],\n",
              "       ...,\n",
              "       [  101, 23811,  2015, ...,     0,     0,     0],\n",
              "       [  101,  2029,  6579, ...,     0,     0,     0],\n",
              "       [  101,  2054,  3185, ...,     0,     0,     0]])"
            ]
          },
          "execution_count": 33,
          "metadata": {},
          "output_type": "execute_result"
        }
      ],
      "source": [
        "import numpy as np\n",
        "\n",
        "def encode_dataset(tokenizer, text_sequences, max_length):\n",
        "    return tokenizer(\n",
        "        text_sequences.tolist(),\n",
        "        padding=\"max_length\",\n",
        "        truncation=True,\n",
        "        max_length=max_length,\n",
        "        return_tensors=\"np\"  # returns NumPy arrays\n",
        "    )\n",
        "\n",
        "\n",
        "\n",
        "encoded_train = encode_dataset(tokenizer, df_train[\"words\"], 32)\n",
        "encoded_train[\"input_ids\"]"
      ]
    },
    {
      "cell_type": "code",
      "execution_count": 34,
      "metadata": {
        "colab": {
          "base_uri": "https://localhost:8080/"
        },
        "id": "MPZjHqv3rdY-",
        "outputId": "afee1eab-eb6c-498a-9321-00be2437d153"
      },
      "outputs": [
        {
          "data": {
            "text/plain": [
              "array([[1, 1, 1, ..., 0, 0, 0],\n",
              "       [1, 1, 1, ..., 0, 0, 0],\n",
              "       [1, 1, 1, ..., 0, 0, 0],\n",
              "       ...,\n",
              "       [1, 1, 1, ..., 0, 0, 0],\n",
              "       [1, 1, 1, ..., 0, 0, 0],\n",
              "       [1, 1, 1, ..., 0, 0, 0]])"
            ]
          },
          "execution_count": 34,
          "metadata": {},
          "output_type": "execute_result"
        }
      ],
      "source": [
        "encoded_train[\"attention_mask\"]"
      ]
    },
    {
      "cell_type": "code",
      "execution_count": 35,
      "metadata": {
        "id": "YLiTJg4Sqwuk"
      },
      "outputs": [],
      "source": [
        "encoded_valid = encode_dataset(tokenizer, df_valid[\"words\"], 32)\n",
        "encoded_test = encode_dataset(tokenizer, df_test[\"words\"], 32)"
      ]
    },
    {
      "cell_type": "markdown",
      "metadata": {
        "id": "xIgGo8ECtvfy"
      },
      "source": [
        "### Encoding the Sequence Classification Targets\n",
        "\n",
        "To do so we build a simple mapping from the auxiliary files:"
      ]
    },
    {
      "cell_type": "code",
      "execution_count": 36,
      "metadata": {
        "colab": {
          "base_uri": "https://localhost:8080/"
        },
        "id": "xqcSXpgOwcbX",
        "outputId": "5f89a1d0-a86b-4cb4-d563-cbecfeccfd23"
      },
      "outputs": [
        {
          "data": {
            "text/plain": [
              "{'AddToPlaylist': 0,\n",
              " 'BookRestaurant': 1,\n",
              " 'GetWeather': 2,\n",
              " 'PlayMusic': 3,\n",
              " 'RateBook': 4,\n",
              " 'SearchCreativeWork': 5,\n",
              " 'SearchScreeningEvent': 6}"
            ]
          },
          "execution_count": 36,
          "metadata": {},
          "output_type": "execute_result"
        }
      ],
      "source": [
        "intent_names = Path(\"vocab.intent\").read_text(\"utf-8\").split()\n",
        "intent_map = dict((label, idx) for idx, label in enumerate(intent_names))\n",
        "intent_map"
      ]
    },
    {
      "cell_type": "code",
      "execution_count": 37,
      "metadata": {
        "colab": {
          "base_uri": "https://localhost:8080/"
        },
        "id": "wFjLpaFxxQk6",
        "outputId": "eade98a9-1595-416d-af1f-c208f43a2a07"
      },
      "outputs": [
        {
          "data": {
            "text/plain": [
              "array([0, 0, 0, ..., 6, 6, 6], dtype=int64)"
            ]
          },
          "execution_count": 37,
          "metadata": {},
          "output_type": "execute_result"
        }
      ],
      "source": [
        "intent_train = df_train[\"intent_label\"].map(intent_map).values\n",
        "intent_train"
      ]
    },
    {
      "cell_type": "code",
      "execution_count": 38,
      "metadata": {
        "id": "aRbvVXuPndoN"
      },
      "outputs": [],
      "source": [
        "intent_valid = df_valid[\"intent_label\"].map(intent_map).values\n",
        "intent_test = df_test[\"intent_label\"].map(intent_map).values"
      ]
    },
    {
      "cell_type": "markdown",
      "metadata": {
        "id": "b5TuDZR26jwq"
      },
      "source": [
        "### Loading and Feeding a Pretrained BERT model\n",
        "\n",
        "Let's load a pretrained BERT model using the [huggingface transformers](https://github.com/huggingface/transformers) package:"
      ]
    },
    {
      "cell_type": "code",
      "execution_count": 39,
      "metadata": {
        "colab": {
          "base_uri": "https://localhost:8080/"
        },
        "id": "73ZrDDm-0wYS",
        "outputId": "6d324120-7505-4b73-e119-b92e48b1d5d0"
      },
      "outputs": [
        {
          "data": {
            "text/plain": [
              "'\\nfrom transformers import TFDistilBertForSequenceClassification\\n\\nclass IntentModelWrapper(tf.keras.Model):\\n    def __init__(self, model_name=\"distilbert-base-uncased\", num_labels=7):\\n        super().__init__(name=\"intent_model_wrapper\")\\n        self.model = TFDistilBertForSequenceClassification.from_pretrained(\\n            model_name,\\n            num_labels=num_labels\\n        )\\n\\n    def call(self, inputs, training=False):\\n        return self.model(inputs, training=training).logits  # return only logits \\n    ### \\n'"
            ]
          },
          "execution_count": 39,
          "metadata": {},
          "output_type": "execute_result"
        }
      ],
      "source": [
        "'''\n",
        "from transformers import TFDistilBertForSequenceClassification\n",
        "\n",
        "class IntentModelWrapper(tf.keras.Model):\n",
        "    def __init__(self, model_name=\"distilbert-base-uncased\", num_labels=7):\n",
        "        super().__init__(name=\"intent_model_wrapper\")\n",
        "        self.model = TFDistilBertForSequenceClassification.from_pretrained(\n",
        "            model_name,\n",
        "            num_labels=num_labels\n",
        "        )\n",
        "\n",
        "    def call(self, inputs, training=False):\n",
        "        return self.model(inputs, training=training).logits  # return only logits \n",
        "    ### \n",
        "'''"
      ]
    },
    {
      "cell_type": "code",
      "execution_count": 40,
      "metadata": {
        "colab": {
          "base_uri": "https://localhost:8080/"
        },
        "id": "TwgRCE2h6QUT",
        "outputId": "e14e34a6-812d-4762-e069-5ccb381b177d"
      },
      "outputs": [],
      "source": [
        "#encoded_valid"
      ]
    },
    {
      "cell_type": "code",
      "execution_count": 41,
      "metadata": {},
      "outputs": [],
      "source": [
        "#encoded_valid[\"input_ids\"].shape"
      ]
    },
    {
      "cell_type": "markdown",
      "metadata": {},
      "source": [
        "We perform batch-wise inference on the validation set to avoid GPU memory overload, collecting the model’s raw logits for each example, and concatenating them into a single array for evaluation.We run inference on a pretrained DistillBert with a untrained classification head.Unlike Bert which outputs separate hidden state and CLS vector representation Distillbert hides that from us and directly outputs the logits."
      ]
    },
    {
      "cell_type": "code",
      "execution_count": 42,
      "metadata": {
        "colab": {
          "base_uri": "https://localhost:8080/"
        },
        "id": "htMv_pQt5aYl",
        "outputId": "97e0e96e-a2ce-4432-83d1-2e84489341aa"
      },
      "outputs": [
        {
          "data": {
            "text/plain": [
              "'from tqdm import tqdm\\nimport numpy as np\\n\\nbatch_size = 32\\nlogits_list = []\\n\\nfor i in tqdm(range(0, len(encoded_valid[\"input_ids\"]), batch_size)):\\n    batch = {\\n        \"input_ids\": encoded_valid[\"input_ids\"][i:i+batch_size],\\n        \"attention_mask\": encoded_valid[\"attention_mask\"][i:i+batch_size]\\n    }\\n    outputs = model(batch)\\n    logits_list.append(outputs.logits.numpy())\\n\\n# Concatenate all batch outputs\\nlogits = np.concatenate(logits_list, axis=0)'"
            ]
          },
          "execution_count": 42,
          "metadata": {},
          "output_type": "execute_result"
        }
      ],
      "source": [
        "'''from tqdm import tqdm\n",
        "import numpy as np\n",
        "\n",
        "batch_size = 32\n",
        "logits_list = []\n",
        "\n",
        "for i in tqdm(range(0, len(encoded_valid[\"input_ids\"]), batch_size)):\n",
        "    batch = {\n",
        "        \"input_ids\": encoded_valid[\"input_ids\"][i:i+batch_size],\n",
        "        \"attention_mask\": encoded_valid[\"attention_mask\"][i:i+batch_size]\n",
        "    }\n",
        "    outputs = model(batch)\n",
        "    logits_list.append(outputs.logits.numpy())\n",
        "\n",
        "# Concatenate all batch outputs\n",
        "logits = np.concatenate(logits_list, axis=0)'''\n"
      ]
    },
    {
      "cell_type": "code",
      "execution_count": 43,
      "metadata": {
        "colab": {
          "base_uri": "https://localhost:8080/"
        },
        "id": "0PoQyA_A7CS4",
        "outputId": "e4ad1a8a-d27d-43c9-84cf-12b824ed138d"
      },
      "outputs": [],
      "source": [
        "#logits.shape"
      ]
    },
    {
      "cell_type": "markdown",
      "metadata": {
        "id": "kxjU9Wpi8vyM"
      },
      "source": [
        "The output of the DistilBERT classification model is a tensor with shape (batch_size, num_labels), where each row contains the raw, unnormalized logits for all intent classes. These logits represent the model's confidence scores before applying softmax and are used to determine the predicted intent for each input sequence."
      ]
    },
    {
      "cell_type": "code",
      "execution_count": 44,
      "metadata": {
        "colab": {
          "base_uri": "https://localhost:8080/"
        },
        "id": "gbg9Yd6MTlQQ",
        "outputId": "2c7fc6b8-cd59-4b1b-83bf-a006a37cd753"
      },
      "outputs": [],
      "source": [
        "#import numpy as np\n",
        "\n",
        "# Example: View logits for the first validation example\n",
        "#print(\"Logits:\", logits[0])"
      ]
    },
    {
      "cell_type": "markdown",
      "metadata": {
        "id": "LT0LFK4z8BkJ"
      },
      "source": [
        "### Exercise\n",
        "\n",
        "Use the following code template to build and train a **sequence classification model** using to predict the **intent class**.\n",
        "\n",
        "Use the `self.bert` pre-trained model in the `call` method and only consider the pooled features (ignore the token-wise features for now)."
      ]
    },
    {
      "cell_type": "code",
      "execution_count": 45,
      "metadata": {},
      "outputs": [],
      "source": [
        "# Instantiate the model\n",
        "#intent_model = IntentModelWrapper(num_labels=len(intent_map))"
      ]
    },
    {
      "cell_type": "markdown",
      "metadata": {
        "id": "I_QgWEnBi9lE"
      },
      "source": [
        "Our classification model outputs logits instead of probabilities. The final softmax normalization layer is implicit, that is included in the loss function instead of the model directly.\n",
        "\n",
        "We need to configure the loss function `SparseCategoricalCrossentropy(from_logits=True)` accordingly:"
      ]
    },
    {
      "cell_type": "code",
      "execution_count": 46,
      "metadata": {
        "id": "1GLdN82steHF"
      },
      "outputs": [
        {
          "data": {
            "text/plain": [
              "\"from tensorflow.keras.optimizers import Adam\\nfrom tensorflow.keras.losses import SparseCategoricalCrossentropy\\nfrom tensorflow.keras.metrics import SparseCategoricalAccuracy\\nfrom tensorflow.keras.optimizers import Adam\\nfrom tensorflow.keras.mixed_precision import LossScaleOptimizer\\n# Compile the model\\nintent_model.compile(\\n    optimizer=Adam(learning_rate=3e-5, epsilon=1e-08),\\n    loss=SparseCategoricalCrossentropy(from_logits=True),\\n    metrics=[SparseCategoricalAccuracy(name='accuracy')]\\n)\""
            ]
          },
          "execution_count": 46,
          "metadata": {},
          "output_type": "execute_result"
        }
      ],
      "source": [
        "'''from tensorflow.keras.optimizers import Adam\n",
        "from tensorflow.keras.losses import SparseCategoricalCrossentropy\n",
        "from tensorflow.keras.metrics import SparseCategoricalAccuracy\n",
        "from tensorflow.keras.optimizers import Adam\n",
        "from tensorflow.keras.mixed_precision import LossScaleOptimizer\n",
        "# Compile the model\n",
        "intent_model.compile(\n",
        "    optimizer=Adam(learning_rate=3e-5, epsilon=1e-08),\n",
        "    loss=SparseCategoricalCrossentropy(from_logits=True),\n",
        "    metrics=[SparseCategoricalAccuracy(name='accuracy')]\n",
        ")'''"
      ]
    },
    {
      "cell_type": "code",
      "execution_count": 47,
      "metadata": {
        "colab": {
          "base_uri": "https://localhost:8080/"
        },
        "id": "9bXYT1U4tKtW",
        "outputId": "3265903e-2044-4d19-88a2-783018090ae1"
      },
      "outputs": [
        {
          "data": {
            "text/plain": [
              "'# Train the model\\nhistory = intent_model.fit(\\n    x={\\n        \"input_ids\": encoded_train[\"input_ids\"],\\n        \"attention_mask\": encoded_train[\"attention_mask\"]\\n    },\\n    y=intent_train,\\n    validation_data=(\\n        {\\n            \"input_ids\": encoded_valid[\"input_ids\"],\\n            \"attention_mask\": encoded_valid[\"attention_mask\"]\\n        },\\n        intent_valid\\n    ),\\n    epochs=2,\\n    batch_size=4\\n)'"
            ]
          },
          "execution_count": 47,
          "metadata": {},
          "output_type": "execute_result"
        }
      ],
      "source": [
        "'''# Train the model\n",
        "history = intent_model.fit(\n",
        "    x={\n",
        "        \"input_ids\": encoded_train[\"input_ids\"],\n",
        "        \"attention_mask\": encoded_train[\"attention_mask\"]\n",
        "    },\n",
        "    y=intent_train,\n",
        "    validation_data=(\n",
        "        {\n",
        "            \"input_ids\": encoded_valid[\"input_ids\"],\n",
        "            \"attention_mask\": encoded_valid[\"attention_mask\"]\n",
        "        },\n",
        "        intent_valid\n",
        "    ),\n",
        "    epochs=2,\n",
        "    batch_size=4\n",
        ")'''"
      ]
    },
    {
      "cell_type": "code",
      "execution_count": 48,
      "metadata": {
        "colab": {
          "base_uri": "https://localhost:8080/",
          "height": 35
        },
        "id": "e45VM_ud0GJr",
        "outputId": "3d255937-0a1b-4f2b-9e65-d62e0b39cd98"
      },
      "outputs": [
        {
          "data": {
            "text/plain": [
              "'def classify(text, tokenizer, model, intent_names):\\n    inputs = tokenizer(text, return_tensors=\"tf\", padding=True, truncation=True)\\n    logits = model(inputs)  # No `.logits` needed\\n    class_id = tf.argmax(logits, axis=1).numpy()[0]\\n    return intent_names[class_id]\\n\\n\\nclassify(\"Book a table for two at La Tour d\\'Argent for Friday night.\",\\n         tokenizer, intent_model, intent_names)'"
            ]
          },
          "execution_count": 48,
          "metadata": {},
          "output_type": "execute_result"
        }
      ],
      "source": [
        "'''def classify(text, tokenizer, model, intent_names):\n",
        "    inputs = tokenizer(text, return_tensors=\"tf\", padding=True, truncation=True)\n",
        "    logits = model(inputs)  # No `.logits` needed\n",
        "    class_id = tf.argmax(logits, axis=1).numpy()[0]\n",
        "    return intent_names[class_id]\n",
        "\n",
        "\n",
        "classify(\"Book a table for two at La Tour d'Argent for Friday night.\",\n",
        "         tokenizer, intent_model, intent_names)'''"
      ]
    },
    {
      "cell_type": "code",
      "execution_count": 49,
      "metadata": {
        "colab": {
          "base_uri": "https://localhost:8080/",
          "height": 35
        },
        "id": "m5OE9SGzFNp6",
        "outputId": "dd1c7e05-f09f-48cc-ad0a-6ce22c76157d"
      },
      "outputs": [],
      "source": [
        "#classify(\"I would like to listen to Anima by Thom Yorke.\",\n",
        "         #tokenizer, intent_model, intent_names)"
      ]
    },
    {
      "cell_type": "code",
      "execution_count": 50,
      "metadata": {
        "colab": {
          "base_uri": "https://localhost:8080/",
          "height": 35
        },
        "id": "xEm-hmgnJprH",
        "outputId": "6fc32fa4-5766-4c6e-b2dc-03840158f559"
      },
      "outputs": [],
      "source": [
        "#classify(\"Will it snow tomorrow in Saclay?\",\n",
        "         #tokenizer, intent_model, intent_names)"
      ]
    },
    {
      "cell_type": "code",
      "execution_count": 51,
      "metadata": {
        "colab": {
          "base_uri": "https://localhost:8080/",
          "height": 35
        },
        "id": "BSpUejyXJ8jc",
        "outputId": "3fd6eaa0-536e-467d-fb6d-597e5fccd57c"
      },
      "outputs": [],
      "source": [
        "#classify(\"Where can I see to the last Star Wars near Odéon tonight?\",\n",
        "         #tokenizer, intent_model, intent_names)"
      ]
    },
    {
      "cell_type": "markdown",
      "metadata": {
        "id": "won6WWQULT3E"
      },
      "source": [
        "## Join Intent Classification and Slot Filling\n",
        "\n",
        "Let's now refine our Natural Language Understanding system by trying the retrieve the important structured elements of each voici command.\n",
        "\n",
        "To do so we will perform word level (or token level) classification of the BIO labels.\n",
        "\n",
        "Since we have word level tags but BERT uses a wordpiece tokenizer, we need to align the BIO labels with the BERT tokens.\n",
        "\n",
        "\n",
        "Let's load the list of possible word token labels and augment it with an additional padding label to be able to ignore special tokens:"
      ]
    },
    {
      "cell_type": "code",
      "execution_count": 52,
      "metadata": {
        "colab": {
          "base_uri": "https://localhost:8080/"
        },
        "id": "PgYp8XkWMkpx",
        "outputId": "ca3b67f2-c03d-45dc-840a-9a21cc6b863a"
      },
      "outputs": [
        {
          "data": {
            "text/plain": [
              "{'[PAD]': 0,\n",
              " 'B-album': 1,\n",
              " 'B-artist': 2,\n",
              " 'B-best_rating': 3,\n",
              " 'B-city': 4,\n",
              " 'B-condition_description': 5,\n",
              " 'B-condition_temperature': 6,\n",
              " 'B-country': 7,\n",
              " 'B-cuisine': 8,\n",
              " 'B-current_location': 9,\n",
              " 'B-entity_name': 10,\n",
              " 'B-facility': 11,\n",
              " 'B-genre': 12,\n",
              " 'B-geographic_poi': 13,\n",
              " 'B-location_name': 14,\n",
              " 'B-movie_name': 15,\n",
              " 'B-movie_type': 16,\n",
              " 'B-music_item': 17,\n",
              " 'B-object_location_type': 18,\n",
              " 'B-object_name': 19,\n",
              " 'B-object_part_of_series_type': 20,\n",
              " 'B-object_select': 21,\n",
              " 'B-object_type': 22,\n",
              " 'B-party_size_description': 23,\n",
              " 'B-party_size_number': 24,\n",
              " 'B-playlist': 25,\n",
              " 'B-playlist_owner': 26,\n",
              " 'B-poi': 27,\n",
              " 'B-rating_unit': 28,\n",
              " 'B-rating_value': 29,\n",
              " 'B-restaurant_name': 30,\n",
              " 'B-restaurant_type': 31,\n",
              " 'B-served_dish': 32,\n",
              " 'B-service': 33,\n",
              " 'B-sort': 34,\n",
              " 'B-spatial_relation': 35,\n",
              " 'B-state': 36,\n",
              " 'B-timeRange': 37,\n",
              " 'B-track': 38,\n",
              " 'B-year': 39,\n",
              " 'I-album': 40,\n",
              " 'I-artist': 41,\n",
              " 'I-city': 42,\n",
              " 'I-country': 43,\n",
              " 'I-cuisine': 44,\n",
              " 'I-current_location': 45,\n",
              " 'I-entity_name': 46,\n",
              " 'I-facility': 47,\n",
              " 'I-genre': 48,\n",
              " 'I-geographic_poi': 49,\n",
              " 'I-location_name': 50,\n",
              " 'I-movie_name': 51,\n",
              " 'I-movie_type': 52,\n",
              " 'I-music_item': 53,\n",
              " 'I-object_location_type': 54,\n",
              " 'I-object_name': 55,\n",
              " 'I-object_part_of_series_type': 56,\n",
              " 'I-object_select': 57,\n",
              " 'I-object_type': 58,\n",
              " 'I-party_size_description': 59,\n",
              " 'I-playlist': 60,\n",
              " 'I-playlist_owner': 61,\n",
              " 'I-poi': 62,\n",
              " 'I-restaurant_name': 63,\n",
              " 'I-restaurant_type': 64,\n",
              " 'I-served_dish': 65,\n",
              " 'I-service': 66,\n",
              " 'I-sort': 67,\n",
              " 'I-spatial_relation': 68,\n",
              " 'I-state': 69,\n",
              " 'I-timeRange': 70,\n",
              " 'I-track': 71,\n",
              " 'O': 72}"
            ]
          },
          "execution_count": 52,
          "metadata": {},
          "output_type": "execute_result"
        }
      ],
      "source": [
        "slot_names = [\"[PAD]\"]\n",
        "slot_names += Path(\"vocab.slot\").read_text(\"utf-8\").strip().splitlines()\n",
        "slot_map = {}\n",
        "for label in slot_names:\n",
        "    slot_map[label] = len(slot_map)\n",
        "slot_map"
      ]
    },
    {
      "cell_type": "markdown",
      "metadata": {
        "id": "v8CX6LxYmhRh"
      },
      "source": [
        "This function encodes word-level slot labels into token-level integer IDs using the tokenizer.\n",
        "It expands each word's label to cover all subword tokens, adjusting `B-` to `I-` for consistency.\n",
        "The result is a fixed-length NumPy array of slot label IDs, aligned with tokenized input for model training.\n"
      ]
    },
    {
      "cell_type": "code",
      "execution_count": null,
      "metadata": {
        "id": "6LLkBWFJM6tr"
      },
      "outputs": [],
      "source": [
        "def encode_token_labels(text_sequences, slot_names, tokenizer, slot_map, max_length):\n",
        "    encoded = np.zeros(shape=(len(text_sequences), max_length), dtype=np.int32)\n",
        "    for i, (text_sequence, word_labels) in enumerate(zip(text_sequences, slot_names)):\n",
        "        encoded_labels = []\n",
        "        for word, word_label in zip(text_sequence.split(), word_labels.split()):\n",
        "            tokens = tokenizer.tokenize(word)\n",
        "            encoded_labels.append(slot_map[word_label])\n",
        "            expand_label = word_label.replace(\"B-\", \"I-\")\n",
        "            if not expand_label in slot_map:\n",
        "                expand_label = word_label\n",
        "            encoded_labels.extend([slot_map[expand_label]] * (len(tokens) - 1))\n",
        "\n",
        "        encoded_labels = encoded_labels[:max_length - 2]  # leave room for [CLS], [SEP] if needed\n",
        "        encoded[i, 1:len(encoded_labels) + 1] = encoded_labels\n",
        "\n",
        "    return encoded\n",
        "\n",
        "\n",
        "slot_train = encode_token_labels(\n",
        "    df_train[\"words\"], df_train[\"word_labels\"], tokenizer, slot_map, 32)\n",
        "slot_valid = encode_token_labels(\n",
        "    df_valid[\"words\"], df_valid[\"word_labels\"], tokenizer, slot_map, 32)\n",
        "slot_test = encode_token_labels(\n",
        "    df_test[\"words\"], df_test[\"word_labels\"], tokenizer, slot_map, 32)"
      ]
    },
    {
      "cell_type": "code",
      "execution_count": 54,
      "metadata": {
        "colab": {
          "base_uri": "https://localhost:8080/"
        },
        "id": "9N1treFMWk6G",
        "outputId": "f31e1d51-a58a-46af-edaf-8211fbd1b222"
      },
      "outputs": [
        {
          "data": {
            "text/plain": [
              "array([ 0, 72, 10, 46, 46, 46, 72, 26, 25, 60, 60, 60, 60, 60, 72, 72,  0,\n",
              "        0,  0,  0,  0,  0,  0,  0,  0,  0,  0,  0,  0,  0,  0,  0])"
            ]
          },
          "execution_count": 54,
          "metadata": {},
          "output_type": "execute_result"
        }
      ],
      "source": [
        "slot_train[0]"
      ]
    },
    {
      "cell_type": "code",
      "execution_count": 55,
      "metadata": {
        "colab": {
          "base_uri": "https://localhost:8080/"
        },
        "id": "YPxRpB5044QM",
        "outputId": "849b02ce-ee17-4a1b-b283-3f33d29ccdd6"
      },
      "outputs": [
        {
          "data": {
            "text/plain": [
              "array([ 0,  2, 41, 72, 72, 72, 26, 25, 72, 72,  0,  0,  0,  0,  0,  0,  0,\n",
              "        0,  0,  0,  0,  0,  0,  0,  0,  0,  0,  0,  0,  0,  0,  0])"
            ]
          },
          "execution_count": 55,
          "metadata": {},
          "output_type": "execute_result"
        }
      ],
      "source": [
        "slot_valid[0]"
      ]
    },
    {
      "cell_type": "markdown",
      "metadata": {
        "id": "n33S5n-TnVjd"
      },
      "source": [
        "Note that the special tokens such as \"[PAD]\" and \"[SEP]\" and all padded positions recieve a 0 label."
      ]
    },
    {
      "cell_type": "markdown",
      "metadata": {
        "id": "RtSSdT2L5O30"
      },
      "source": [
        "### Exercise\n",
        "\n",
        "Use the following code template to build a joint sequence and token classification model suitable for training on our encoded dataset with slot labels:\n",
        "\n"
      ]
    },
    {
      "cell_type": "code",
      "execution_count": 56,
      "metadata": {},
      "outputs": [
        {
          "name": "stdout",
          "output_type": "stream",
          "text": [
            "INFO:tensorflow:Mixed precision compatibility check (mixed_float16): OK\n",
            "Your GPU will likely run quickly with dtype policy mixed_float16 as it has compute capability of at least 7.0. Your GPU: NVIDIA GeForce RTX 3050 Ti Laptop GPU, compute capability 8.6\n"
          ]
        }
      ],
      "source": [
        "from tensorflow.keras import mixed_precision\n",
        "mixed_precision.set_global_policy(\"mixed_float16\")"
      ]
    },
    {
      "cell_type": "code",
      "execution_count": 57,
      "metadata": {},
      "outputs": [
        {
          "name": "stdout",
          "output_type": "stream",
          "text": [
            "Requirement already satisfied: tensorflow-addons in c:\\users\\shyamdevadiga\\miniconda3\\envs\\distilbert\\lib\\site-packages (0.21.0)\n",
            "Requirement already satisfied: typeguard<3.0.0,>=2.7 in c:\\users\\shyamdevadiga\\miniconda3\\envs\\distilbert\\lib\\site-packages (from tensorflow-addons) (2.13.3)\n",
            "Requirement already satisfied: packaging in c:\\users\\shyamdevadiga\\miniconda3\\envs\\distilbert\\lib\\site-packages (from tensorflow-addons) (25.0)\n",
            "Note: you may need to restart the kernel to use updated packages.\n"
          ]
        }
      ],
      "source": [
        "pip install tensorflow-addons"
      ]
    },
    {
      "cell_type": "markdown",
      "metadata": {},
      "source": [
        "This custom TensorFlow metric computes F1 score while ignoring padded tokens (e.g., `-100`).It masks out padding, compares predictions with true labels, and tracks true/false positives/negatives.Precision and recall are calculated from these, and the F1 score is returned for slot evaluation.\n"
      ]
    },
    {
      "cell_type": "code",
      "execution_count": 58,
      "metadata": {},
      "outputs": [],
      "source": [
        "class MaskedF1Score(tf.keras.metrics.Metric):\n",
        "    def __init__(self, name='masked_slot_f1', **kwargs):\n",
        "        super().__init__(name=name, **kwargs)\n",
        "        self.tp = self.add_weight(name='tp', initializer='zeros')\n",
        "        self.fp = self.add_weight(name='fp', initializer='zeros')\n",
        "        self.fn = self.add_weight(name='fn', initializer='zeros')\n",
        "\n",
        "    def update_state(self, y_true, y_pred, sample_weight=None):\n",
        "        # y_pred: (batch, seq_len, num_classes)\n",
        "        y_pred = tf.argmax(y_pred, axis=-1)\n",
        "        y_true = tf.cast(y_true, tf.int64)\n",
        "\n",
        "        # Mask out padding tokens (-100)\n",
        "        mask = tf.not_equal(y_true, -100)\n",
        "        y_true = tf.boolean_mask(y_true, mask)\n",
        "        y_pred = tf.boolean_mask(y_pred, mask)\n",
        "\n",
        "        tp = tf.reduce_sum(tf.cast(tf.equal(y_true, y_pred), tf.float32))\n",
        "        fp = tf.reduce_sum(tf.cast(tf.not_equal(y_true, y_pred), tf.float32))\n",
        "        fn = fp  # same, since we're only computing binary correctness\n",
        "\n",
        "        self.tp.assign_add(tp)\n",
        "        self.fp.assign_add(fp)\n",
        "        self.fn.assign_add(fn)\n",
        "\n",
        "    def result(self):\n",
        "        precision = self.tp / (self.tp + self.fp + 1e-8)\n",
        "        recall = self.tp / (self.tp + self.fn + 1e-8)\n",
        "        return 2 * precision * recall / (precision + recall + 1e-8)\n",
        "\n",
        "    def reset_states(self):\n",
        "        for var in self.variables:\n",
        "            var.assign(0)\n"
      ]
    },
    {
      "cell_type": "markdown",
      "metadata": {},
      "source": [
        "This custom TensorFlow model uses DistilBERT to jointly predict **intent** (from `[CLS]` token) and **slot labels** (from all tokens).It includes two dense heads: one for intent classification and another for token-level slot tagging.The `call()` method optionally returns attention weights for interpretability during inference.\n"
      ]
    },
    {
      "cell_type": "code",
      "execution_count": 59,
      "metadata": {
        "id": "FwkvLq3KzU4G"
      },
      "outputs": [
        {
          "name": "stderr",
          "output_type": "stream",
          "text": [
            "c:\\Users\\SHYAMDEVADIGA\\miniconda3\\envs\\distilbert\\lib\\site-packages\\tensorflow_addons\\utils\\tfa_eol_msg.py:23: UserWarning: \n",
            "\n",
            "TensorFlow Addons (TFA) has ended development and introduction of new features.\n",
            "TFA has entered a minimal maintenance and release mode until a planned end of life in May 2024.\n",
            "Please modify downstream libraries to take dependencies from other repositories in our TensorFlow community (e.g. Keras, Keras-CV, and Keras-NLP). \n",
            "\n",
            "For more information see: https://github.com/tensorflow/addons/issues/2807 \n",
            "\n",
            "  warnings.warn(\n",
            "c:\\Users\\SHYAMDEVADIGA\\miniconda3\\envs\\distilbert\\lib\\site-packages\\tensorflow_addons\\utils\\ensure_tf_install.py:53: UserWarning: Tensorflow Addons supports using Python ops for all Tensorflow versions above or equal to 2.11.0 and strictly below 2.14.0 (nightly versions are not supported). \n",
            " The versions of TensorFlow you are currently using is 2.10.0 and is not supported. \n",
            "Some things might work, some things might not.\n",
            "If you were to encounter a bug, do not file an issue.\n",
            "If you want to make sure you're using a tested and supported configuration, either change the TensorFlow version or the TensorFlow Addons's version. \n",
            "You can find the compatibility matrix in TensorFlow Addon's readme:\n",
            "https://github.com/tensorflow/addons\n",
            "  warnings.warn(\n"
          ]
        }
      ],
      "source": [
        "import tensorflow as tf\n",
        "from transformers import TFDistilBertModel\n",
        "from tensorflow.keras.layers import Dropout, Dense\n",
        "from tensorflow_addons.metrics import F1Score\n",
        "from tensorflow.keras.metrics import SparseCategoricalAccuracy\n",
        "\n",
        "class JointIntentAndSlotFillingModel(tf.keras.Model):\n",
        "    def __init__(self, intent_num_labels=None, slot_num_labels=None,\n",
        "                 model_name=\"distilbert-base-uncased\", dropout_prob=0.1):\n",
        "        super().__init__(name=\"joint_intent_slot\")\n",
        "        self.bert = TFDistilBertModel.from_pretrained(model_name)\n",
        "        self.dropout = Dropout(dropout_prob)\n",
        "        self.intent_classifier = Dense(intent_num_labels, name=\"intent_classifier\")\n",
        "        self.slot_classifier = Dense(slot_num_labels, name=\"slot_classifier\")\n",
        "\n",
        "    def call(self, inputs, training=False, return_attentions=False):\n",
        "        input_ids = inputs[\"input_ids\"]\n",
        "        attention_mask = inputs[\"attention_mask\"]\n",
        "\n",
        "        outputs = self.bert(\n",
        "            input_ids=input_ids,\n",
        "            attention_mask=attention_mask,\n",
        "            training=training,\n",
        "            output_attentions=return_attentions  # 🔥 conditionally collect attention\n",
        "        )\n",
        "\n",
        "        sequence_output = outputs.last_hidden_state\n",
        "        cls_output = self.dropout(sequence_output[:, 0, :], training=training)\n",
        "        intent_logits = self.intent_classifier(cls_output)\n",
        "\n",
        "        sequence_output = self.dropout(sequence_output, training=training)\n",
        "        slot_logits = self.slot_classifier(sequence_output)\n",
        "\n",
        "        if return_attentions:\n",
        "            return slot_logits, intent_logits, outputs.attentions\n",
        "        else:\n",
        "            return slot_logits, intent_logits"
      ]
    },
    {
      "cell_type": "code",
      "execution_count": 60,
      "metadata": {},
      "outputs": [
        {
          "name": "stderr",
          "output_type": "stream",
          "text": [
            "c:\\Users\\SHYAMDEVADIGA\\miniconda3\\envs\\distilbert\\lib\\site-packages\\huggingface_hub\\file_download.py:943: FutureWarning: `resume_download` is deprecated and will be removed in version 1.0.0. Downloads always resume when possible. If you want to force a new download, use `force_download=True`.\n",
            "  warnings.warn(\n",
            "Some weights of the PyTorch model were not used when initializing the TF 2.0 model TFDistilBertModel: ['vocab_layer_norm.weight', 'vocab_transform.bias', 'vocab_transform.weight', 'vocab_layer_norm.bias', 'vocab_projector.bias']\n",
            "- This IS expected if you are initializing TFDistilBertModel from a PyTorch model trained on another task or with another architecture (e.g. initializing a TFBertForSequenceClassification model from a BertForPreTraining model).\n",
            "- This IS NOT expected if you are initializing TFDistilBertModel from a PyTorch model that you expect to be exactly identical (e.g. initializing a TFBertForSequenceClassification model from a BertForSequenceClassification model).\n",
            "All the weights of TFDistilBertModel were initialized from the PyTorch model.\n",
            "If your task is similar to the task the model of the checkpoint was trained on, you can already use TFDistilBertModel for predictions without further training.\n"
          ]
        }
      ],
      "source": [
        "joint_model = JointIntentAndSlotFillingModel(\n",
        "    intent_num_labels=len(intent_map),\n",
        "    slot_num_labels=len(slot_map)\n",
        ")"
      ]
    },
    {
      "cell_type": "markdown",
      "metadata": {},
      "source": [
        "The model is compiled with a mixed-precision Adam optimizer and two separate categorical cross-entropy losses for **intent** and **slot** outputs.Custom metrics like `SparseCategoricalAccuracy` and a `MaskedF1Score` are used to evaluate performance on padded sequences.\n",
        "During training, early stopping and learning rate scheduling callbacks help prevent overfitting and adapt learning dynamics.\n"
      ]
    },
    {
      "cell_type": "code",
      "execution_count": 61,
      "metadata": {
        "id": "cCPRwf2Czf_d"
      },
      "outputs": [],
      "source": [
        "from tensorflow.keras.optimizers import Adam\n",
        "from tensorflow.keras.losses import SparseCategoricalCrossentropy\n",
        "from tensorflow.keras.metrics import SparseCategoricalAccuracy\n",
        "from tensorflow.keras.optimizers import Adam\n",
        "from tensorflow.keras.mixed_precision import LossScaleOptimizer\n",
        "from tensorflow.keras.callbacks import EarlyStopping, ReduceLROnPlateau\n",
        "\n",
        "callbacks = [\n",
        "    EarlyStopping(monitor='val_loss', patience=2, restore_best_weights=True),\n",
        "    ReduceLROnPlateau(monitor='val_loss', factor=0.5, patience=1, verbose=1)\n",
        "]\n",
        "\n",
        "opt = mixed_precision.LossScaleOptimizer(\n",
        "    Adam(learning_rate=3e-5, epsilon=1e-08), dynamic=True\n",
        ")\n",
        "losses = [SparseCategoricalCrossentropy(from_logits=True),\n",
        "          SparseCategoricalCrossentropy(from_logits=True)]\n",
        "\n",
        "NUM_INTENT_CLASSES = len(intent_map)\n",
        "NUM_SLOT_CLASSES = len(slot_map)\n",
        "\n",
        "slot_metrics = [\n",
        "    SparseCategoricalAccuracy(name='slot_acc'),\n",
        "    MaskedF1Score(name='masked_slot_f1')\n",
        "]\n",
        "\n",
        "intent_metrics = [\n",
        "    SparseCategoricalAccuracy(name='intent_acc'),\n",
        "]\n",
        "joint_model.compile(optimizer=opt, loss=losses, metrics=[slot_metrics, intent_metrics])"
      ]
    },
    {
      "cell_type": "code",
      "execution_count": 62,
      "metadata": {
        "colab": {
          "base_uri": "https://localhost:8080/"
        },
        "id": "Q8A0qr1K2Q-s",
        "outputId": "38b57b03-4bc8-4139-9925-1d3a23f57fb1"
      },
      "outputs": [
        {
          "name": "stdout",
          "output_type": "stream",
          "text": [
            "Epoch 1/5\n",
            "3271/3271 [==============================] - ETA: 0s - loss: 0.2948 - output_1_loss: 0.1919 - output_2_loss: 0.1030 - output_1_slot_acc: 0.9551 - output_1_masked_slot_f1: 0.9551 - output_2_intent_acc: 0.9677"
          ]
        },
        {
          "name": "stderr",
          "output_type": "stream",
          "text": [
            "c:\\Users\\SHYAMDEVADIGA\\miniconda3\\envs\\distilbert\\lib\\site-packages\\keras\\engine\\training.py:2319: UserWarning: Metric MaskedF1Score implements a `reset_states()` method; rename it to `reset_state()` (without the final \"s\"). The name `reset_states()` has been deprecated to improve API consistency.\n",
            "  m.reset_state()\n"
          ]
        },
        {
          "name": "stdout",
          "output_type": "stream",
          "text": [
            "3271/3271 [==============================] - 205s 60ms/step - loss: 0.2948 - output_1_loss: 0.1919 - output_2_loss: 0.1030 - output_1_slot_acc: 0.9551 - output_1_masked_slot_f1: 0.9551 - output_2_intent_acc: 0.9677 - val_loss: 0.0949 - val_output_1_loss: 0.0413 - val_output_2_loss: 0.0536 - val_output_1_slot_acc: 0.9891 - val_output_1_masked_slot_f1: 0.9891 - val_output_2_intent_acc: 0.9871 - lr: 3.0000e-05\n",
            "Epoch 2/5\n",
            "3271/3271 [==============================] - 209s 64ms/step - loss: 0.0747 - output_1_loss: 0.0414 - output_2_loss: 0.0333 - output_1_slot_acc: 0.9885 - output_1_masked_slot_f1: 0.9885 - output_2_intent_acc: 0.9886 - val_loss: 0.0722 - val_output_1_loss: 0.0318 - val_output_2_loss: 0.0404 - val_output_1_slot_acc: 0.9900 - val_output_1_masked_slot_f1: 0.9900 - val_output_2_intent_acc: 0.9914 - lr: 3.0000e-05\n",
            "Epoch 3/5\n",
            "3271/3271 [==============================] - ETA: 0s - loss: 0.0501 - output_1_loss: 0.0264 - output_2_loss: 0.0237 - output_1_slot_acc: 0.9924 - output_1_masked_slot_f1: 0.9924 - output_2_intent_acc: 0.9922\n",
            "Epoch 3: ReduceLROnPlateau reducing learning rate to 1.4999999621068127e-05.\n",
            "3271/3271 [==============================] - 213s 65ms/step - loss: 0.0501 - output_1_loss: 0.0264 - output_2_loss: 0.0237 - output_1_slot_acc: 0.9924 - output_1_masked_slot_f1: 0.9924 - output_2_intent_acc: 0.9922 - val_loss: 0.1197 - val_output_1_loss: 0.0333 - val_output_2_loss: 0.0864 - val_output_1_slot_acc: 0.9908 - val_output_1_masked_slot_f1: 0.9908 - val_output_2_intent_acc: 0.9843 - lr: 3.0000e-05\n",
            "Epoch 4/5\n",
            "3271/3271 [==============================] - ETA: 0s - loss: 0.0226 - output_1_loss: 0.0140 - output_2_loss: 0.0086 - output_1_slot_acc: 0.9959 - output_1_masked_slot_f1: 0.9959 - output_2_intent_acc: 0.9971\n",
            "Epoch 4: ReduceLROnPlateau reducing learning rate to 7.499999810534064e-06.\n",
            "3271/3271 [==============================] - 216s 66ms/step - loss: 0.0226 - output_1_loss: 0.0140 - output_2_loss: 0.0086 - output_1_slot_acc: 0.9959 - output_1_masked_slot_f1: 0.9959 - output_2_intent_acc: 0.9971 - val_loss: 0.0866 - val_output_1_loss: 0.0274 - val_output_2_loss: 0.0592 - val_output_1_slot_acc: 0.9924 - val_output_1_masked_slot_f1: 0.9924 - val_output_2_intent_acc: 0.9871 - lr: 1.5000e-05\n"
          ]
        }
      ],
      "source": [
        "history = joint_model.fit(\n",
        "    x={\n",
        "        \"input_ids\": encoded_train[\"input_ids\"],\n",
        "        \"attention_mask\": encoded_train[\"attention_mask\"]\n",
        "    },\n",
        "    y=[slot_train, intent_train],\n",
        "    validation_data=(\n",
        "        {\n",
        "            \"input_ids\": encoded_valid[\"input_ids\"],\n",
        "            \"attention_mask\": encoded_valid[\"attention_mask\"]\n",
        "        },\n",
        "        [slot_valid, intent_valid]\n",
        "    ),\n",
        "    epochs=5,\n",
        "    batch_size=4,\n",
        "    callbacks=callbacks\n",
        ")"
      ]
    },
    {
      "cell_type": "markdown",
      "metadata": {},
      "source": [
        "The model quickly learns meaningful patterns, reaching 99.2% slot F1 and 99.7% intent accuracy by Epoch 4.\n",
        "Early epochs show fast convergence, while learning rate reduction (via ReduceLROnPlateau) helps fine-tune performance by halving the rate when validation loss plateaus.\n",
        "Despite slight fluctuation in intent validation accuracy (due to class overlap/confusion), the model generalizes very well on both tasks."
      ]
    },
    {
      "cell_type": "code",
      "execution_count": 63,
      "metadata": {},
      "outputs": [
        {
          "name": "stdout",
          "output_type": "stream",
          "text": [
            "22/22 [==============================] - 3s 40ms/step\n"
          ]
        }
      ],
      "source": [
        "# Predict on validation set \n",
        "slot_logits, intent_logits = joint_model.predict({\n",
        "    \"input_ids\": encoded_valid[\"input_ids\"],\n",
        "    \"attention_mask\": encoded_valid[\"attention_mask\"]\n",
        "})\n",
        "\n",
        "# Convert logits to predictions\n",
        "slot_preds = tf.argmax(slot_logits, axis=-1).numpy()\n",
        "intent_preds = tf.argmax(intent_logits, axis=-1).numpy()\n"
      ]
    },
    {
      "cell_type": "code",
      "execution_count": null,
      "metadata": {},
      "outputs": [],
      "source": [
        "# Save model config\n",
        "joint_model.save_pretrained(\"joint_model\")"
      ]
    },
    {
      "cell_type": "code",
      "execution_count": 65,
      "metadata": {},
      "outputs": [],
      "source": [
        "def visualize_attention(tokens, attn_matrix, layer=0, head=0):\n",
        "    import matplotlib.pyplot as plt\n",
        "    import seaborn as sns\n",
        "\n",
        "    plt.figure(figsize=(10, 8))\n",
        "    sns.heatmap(attn_matrix, xticklabels=tokens, yticklabels=tokens,\n",
        "                cmap=\"viridis\", square=True, cbar=True)\n",
        "    plt.title(f\"Attention Map – Layer {layer}, Head {head}\")\n",
        "    plt.xlabel(\"Attended To\")\n",
        "    plt.ylabel(\"Attending From\")\n",
        "    plt.xticks(rotation=90)\n",
        "    plt.yticks(rotation=0)\n",
        "    plt.tight_layout()\n",
        "    plt.show()\n"
      ]
    },
    {
      "cell_type": "code",
      "execution_count": 66,
      "metadata": {},
      "outputs": [
        {
          "data": {
            "image/png": "[encoded data removed]",
            "text/plain": [
              "<Figure size 1000x800 with 2 Axes>"
            ]
          },
          "metadata": {},
          "output_type": "display_data"
        }
      ],
      "source": [
        "text = \"Book a table for two at Le Ritz for Friday night\"\n",
        "tokens, attn_matrix = get_attention_for_text(text, tokenizer, joint_model, layer=3, head=2)\n",
        "visualize_attention(tokens, attn_matrix, layer=3, head=2)"
      ]
    },
    {
      "cell_type": "code",
      "execution_count": 67,
      "metadata": {},
      "outputs": [],
      "source": [
        "slot_label_map = slot_map  # {'O': 0, 'B-city': 1, ...}\n",
        "intent_label_map = intent_map  # {'PlayMusic': 0, 'GetWeather': 1, ...}"
      ]
    },
    {
      "cell_type": "code",
      "execution_count": 68,
      "metadata": {},
      "outputs": [],
      "source": [
        "def evaluate_slot_f1(slot_preds, slot_true, slot_label_map):\n",
        "    from sklearn.metrics import classification_report\n",
        "\n",
        "    y_true, y_pred = [], []\n",
        "\n",
        "    for true_seq, pred_seq in zip(slot_true, slot_preds):\n",
        "        for t, p in zip(true_seq, pred_seq):\n",
        "            if t != -100:\n",
        "                y_true.append(t)\n",
        "                y_pred.append(p)\n",
        "\n",
        "    # Remove 'O' class for focused evaluation\n",
        "    o_idx = slot_label_map['O']\n",
        "    labels_to_include = [i for label, i in slot_label_map.items() if i != o_idx]\n",
        "    target_names = [label for label, i in slot_label_map.items() if i != o_idx]\n",
        "\n",
        "    print(\"📊 Slot Filling Report (excluding 'O'):\")\n",
        "    print(classification_report(\n",
        "        y_true, y_pred,\n",
        "        labels=labels_to_include,\n",
        "        target_names=target_names,\n",
        "        digits=4,\n",
        "        zero_division=0\n",
        "    ))\n"
      ]
    },
    {
      "cell_type": "code",
      "execution_count": 69,
      "metadata": {},
      "outputs": [
        {
          "name": "stdout",
          "output_type": "stream",
          "text": [
            "📊 Slot Filling Report (excluding 'O'):\n",
            "                              precision    recall  f1-score   support\n",
            "\n",
            "                       [PAD]     1.0000    1.0000    1.0000     14901\n",
            "                     B-album     0.3000    0.2727    0.2857        11\n",
            "                    B-artist     0.9725    0.9815    0.9770       108\n",
            "               B-best_rating     1.0000    1.0000    1.0000        50\n",
            "                      B-city     0.9231    0.9836    0.9524        61\n",
            "     B-condition_description     1.0000    1.0000    1.0000        27\n",
            "     B-condition_temperature     1.0000    1.0000    1.0000        24\n",
            "                   B-country     0.9487    1.0000    0.9737        37\n",
            "                   B-cuisine     1.0000    0.9167    0.9565        12\n",
            "          B-current_location     1.0000    1.0000    1.0000        19\n",
            "               B-entity_name     0.9200    0.9583    0.9388        24\n",
            "                  B-facility     1.0000    1.0000    1.0000         6\n",
            "                     B-genre     0.7500    0.7500    0.7500         4\n",
            "            B-geographic_poi     1.0000    0.8571    0.9231        14\n",
            "             B-location_name     1.0000    0.9630    0.9811        27\n",
            "                B-movie_name     0.9474    0.8780    0.9114        41\n",
            "                B-movie_type     0.9737    1.0000    0.9867        37\n",
            "                B-music_item     0.9792    0.9792    0.9792        96\n",
            "      B-object_location_type     1.0000    1.0000    1.0000        27\n",
            "               B-object_name     0.9067    0.8608    0.8831       158\n",
            "B-object_part_of_series_type     0.9524    0.9524    0.9524        21\n",
            "             B-object_select     1.0000    1.0000    1.0000        42\n",
            "               B-object_type     0.9753    0.9753    0.9753       162\n",
            "    B-party_size_description     1.0000    1.0000    1.0000        15\n",
            "         B-party_size_number     1.0000    1.0000    1.0000        59\n",
            "                  B-playlist     0.9604    0.9417    0.9510       103\n",
            "            B-playlist_owner     1.0000    0.9730    0.9863        74\n",
            "                       B-poi     0.7500    0.5000    0.6000         6\n",
            "               B-rating_unit     1.0000    1.0000    1.0000        57\n",
            "              B-rating_value     1.0000    1.0000    1.0000       100\n",
            "           B-restaurant_name     0.8235    0.7778    0.8000        18\n",
            "           B-restaurant_type     0.9130    0.9844    0.9474        64\n",
            "               B-served_dish     0.8667    0.9286    0.8966        14\n",
            "                   B-service     1.0000    1.0000    1.0000        47\n",
            "                      B-sort     0.9643    0.9310    0.9474        29\n",
            "          B-spatial_relation     1.0000    0.9394    0.9688        66\n",
            "                     B-state     1.0000    0.9184    0.9574        49\n",
            "                 B-timeRange     0.9732    0.9316    0.9520       117\n",
            "                     B-track     0.5385    0.4667    0.5000        15\n",
            "                      B-year     0.9750    1.0000    0.9873        39\n",
            "                     I-album     0.2653    0.6190    0.3714        21\n",
            "                    I-artist     0.9839    0.9799    0.9819       249\n",
            "                      I-city     0.9333    0.9459    0.9396        74\n",
            "                   I-country     0.8810    1.0000    0.9367        37\n",
            "                   I-cuisine     1.0000    0.6000    0.7500        10\n",
            "          I-current_location     1.0000    1.0000    1.0000         7\n",
            "               I-entity_name     0.9155    0.9848    0.9489        66\n",
            "                  I-facility     0.0000    0.0000    0.0000         0\n",
            "                     I-genre     0.0000    0.0000    0.0000         0\n",
            "            I-geographic_poi     1.0000    0.9565    0.9778        69\n",
            "             I-location_name     0.9821    1.0000    0.9910        55\n",
            "                I-movie_name     0.9110    0.9638    0.9366       138\n",
            "                I-movie_type     1.0000    1.0000    1.0000        11\n",
            "                I-music_item     1.0000    1.0000    1.0000         4\n",
            "      I-object_location_type     1.0000    1.0000    1.0000        19\n",
            "               I-object_name     0.9728    0.9504    0.9614       564\n",
            "I-object_part_of_series_type     0.0000    0.0000    0.0000         0\n",
            "             I-object_select     0.0000    0.0000    0.0000         0\n",
            "               I-object_type     0.9825    1.0000    0.9912        56\n",
            "    I-party_size_description     1.0000    1.0000    1.0000        54\n",
            "                  I-playlist     0.9853    0.9782    0.9818       275\n",
            "            I-playlist_owner     1.0000    1.0000    1.0000        19\n",
            "                       I-poi     0.9375    0.8333    0.8824        18\n",
            "           I-restaurant_name     0.9524    0.8511    0.8989        47\n",
            "           I-restaurant_type     0.9167    1.0000    0.9565        33\n",
            "               I-served_dish     0.7500    1.0000    0.8571        21\n",
            "                   I-service     1.0000    1.0000    1.0000        27\n",
            "                      I-sort     1.0000    1.0000    1.0000        17\n",
            "          I-spatial_relation     0.9400    1.0000    0.9691        47\n",
            "                     I-state     1.0000    0.8750    0.9333         8\n",
            "                 I-timeRange     0.9742    0.9913    0.9827       229\n",
            "                     I-track     0.6667    0.2000    0.3077        30\n",
            "\n",
            "                   micro avg     0.9902    0.9897    0.9900     18986\n",
            "                   macro avg     0.8787    0.8660    0.8677     18986\n",
            "                weighted avg     0.9910    0.9897    0.9899     18986\n",
            "\n"
          ]
        }
      ],
      "source": [
        "evaluate_slot_f1(slot_preds, slot_valid, slot_label_map)\n"
      ]
    },
    {
      "cell_type": "code",
      "execution_count": 70,
      "metadata": {},
      "outputs": [
        {
          "data": {
            "text/plain": [
              "<Figure size 800x600 with 0 Axes>"
            ]
          },
          "metadata": {},
          "output_type": "display_data"
        },
        {
          "data": {
            "image/png": "[encoded data removed]",
            "text/plain": [
              "<Figure size 640x480 with 2 Axes>"
            ]
          },
          "metadata": {},
          "output_type": "display_data"
        }
      ],
      "source": [
        "from sklearn.metrics import confusion_matrix, ConfusionMatrixDisplay\n",
        "import matplotlib.pyplot as plt\n",
        "\n",
        "# Step 1: Compute softmax confidence scores\n",
        "intent_probs = tf.nn.softmax(intent_logits, axis=1).numpy()\n",
        "intent_confidences = intent_probs.max(axis=1)\n",
        "\n",
        "# Fallback for low-confidence predictions\n",
        "intent_preds_with_fallback = np.where(intent_confidences < 0.5, len(intent_map), intent_preds)\n",
        "\n",
        "# Step 2: Prepare labels\n",
        "intent_labels_with_fallback = list(intent_map.keys()) + [\"fallback\"]\n",
        "\n",
        "# Step 3: Plot Intent Confusion Matrix (force all label indices including fallback)\n",
        "intent_cm = confusion_matrix(\n",
        "    intent_valid,\n",
        "    intent_preds_with_fallback,\n",
        "    labels=list(range(len(intent_map))) + [len(intent_map)]\n",
        ")\n",
        "\n",
        "disp = ConfusionMatrixDisplay(intent_cm, display_labels=intent_labels_with_fallback)\n",
        "plt.figure(figsize=(8, 6))\n",
        "disp.plot(xticks_rotation=45)\n",
        "plt.title(\"Intent Confusion Matrix with Fallback Handling\")\n",
        "plt.show()\n"
      ]
    },
    {
      "cell_type": "markdown",
      "metadata": {
        "id": "KISsxUXO6aA1"
      },
      "source": [
        "The following function uses our trained model to make a prediction on a single text sequence and display both the sequence-wise and the token-wise class labels:"
      ]
    },
    {
      "cell_type": "code",
      "execution_count": 71,
      "metadata": {
        "id": "r0hZKphof3Im"
      },
      "outputs": [],
      "source": [
        "def show_predictions(text, tokenizer, model, intent_names, slot_names):\n",
        "    # Tokenize and convert to the required input dict\n",
        "    inputs = tokenizer(text, return_tensors=\"tf\", padding=True, truncation=True)\n",
        "    outputs = model(inputs)\n",
        "    \n",
        "    slot_logits, intent_logits = outputs\n",
        "    slot_ids = tf.argmax(slot_logits, axis=-1).numpy()[0][1:-1]  # skip [CLS] and [SEP]\n",
        "    intent_id = tf.argmax(intent_logits, axis=-1).numpy()[0]\n",
        "\n",
        "    print(\"## Intent:\", intent_names[intent_id])\n",
        "    print(\"## Slots:\")\n",
        "    tokens = tokenizer.tokenize(text)\n",
        "    for token, slot_id in zip(tokens, slot_ids):\n",
        "        print(f\"{token:>10} : {slot_names[slot_id]}\")\n"
      ]
    },
    {
      "cell_type": "code",
      "execution_count": 72,
      "metadata": {
        "colab": {
          "base_uri": "https://localhost:8080/"
        },
        "id": "dzzVtd7ag7Hi",
        "outputId": "a0f05661-0a60-424d-df49-02ac61068acd"
      },
      "outputs": [
        {
          "name": "stdout",
          "output_type": "stream",
          "text": [
            "## Intent: BookRestaurant\n",
            "## Slots:\n",
            "      book : O\n",
            "         a : O\n",
            "     table : O\n",
            "       for : O\n",
            "       two : B-party_size_number\n",
            "        at : O\n",
            "        le : B-restaurant_name\n",
            "        ri : I-restaurant_name\n",
            "      ##tz : I-restaurant_name\n",
            "       for : O\n",
            "    friday : B-timeRange\n",
            "     night : I-timeRange\n",
            "         ! : I-timeRange\n"
          ]
        }
      ],
      "source": [
        "show_predictions(\"Book a table for two at Le Ritz for Friday night!\",\n",
        "                 tokenizer, joint_model, intent_names, slot_names)"
      ]
    },
    {
      "cell_type": "code",
      "execution_count": 73,
      "metadata": {
        "colab": {
          "base_uri": "https://localhost:8080/"
        },
        "id": "b3UCKzNchAtF",
        "outputId": "d08132ae-6e8a-4176-f6f0-5acfaf1089c5"
      },
      "outputs": [
        {
          "name": "stdout",
          "output_type": "stream",
          "text": [
            "## Intent: PlayMusic\n",
            "## Slots:\n",
            "         i : O\n",
            "     would : O\n",
            "      like : O\n",
            "        to : O\n",
            "    listen : O\n",
            "        to : O\n",
            "        an : B-track\n",
            "     ##ima : I-album\n",
            "        by : O\n",
            "      thom : B-artist\n",
            "      york : I-artist\n",
            "       ##e : I-artist\n",
            "         . : O\n"
          ]
        }
      ],
      "source": [
        "show_predictions(\"I would like to listen to Anima by Thom Yorke.\",\n",
        "                 tokenizer, joint_model, intent_names, slot_names)"
      ]
    },
    {
      "cell_type": "markdown",
      "metadata": {
        "id": "wFp10wA17jem"
      },
      "source": [
        "### Decoding Predictions into Structured Knowledge\n",
        "\n",
        "For completeness, here a minimal function to naively decode the predicted BIO slot ids and convert it into a structured representation for the detected slots as a Python dictionaries: "
      ]
    },
    {
      "cell_type": "code",
      "execution_count": 74,
      "metadata": {
        "id": "9aTOdQdpXzBX"
      },
      "outputs": [],
      "source": [
        "def decode_predictions(text, tokenizer, intent_names, slot_names,\n",
        "                       intent_id, slot_ids):\n",
        "    info = {\"intent\": intent_names[intent_id]}\n",
        "    collected_slots = {}\n",
        "    active_slot_words = []\n",
        "    active_slot_name = None\n",
        "    for word in text.split():\n",
        "        tokens = tokenizer.tokenize(word)\n",
        "        current_word_slot_ids = slot_ids[:len(tokens)]\n",
        "        slot_ids = slot_ids[len(tokens):]\n",
        "        current_word_slot_name = slot_names[current_word_slot_ids[0]]\n",
        "        if current_word_slot_name == \"O\":\n",
        "            if active_slot_name:\n",
        "                collected_slots[active_slot_name] = \" \".join(active_slot_words)\n",
        "                active_slot_words = []\n",
        "                active_slot_name = None\n",
        "        else:\n",
        "            # Naive BIO: handling: treat B- and I- the same...\n",
        "            new_slot_name = current_word_slot_name[2:]\n",
        "            if active_slot_name is None:\n",
        "                active_slot_words.append(word)\n",
        "                active_slot_name = new_slot_name\n",
        "            elif new_slot_name == active_slot_name:\n",
        "                active_slot_words.append(word)\n",
        "            else:\n",
        "                collected_slots[active_slot_name] = \" \".join(active_slot_words)\n",
        "                active_slot_words = [word]\n",
        "                active_slot_name = new_slot_name\n",
        "    if active_slot_name:\n",
        "        collected_slots[active_slot_name] = \" \".join(active_slot_words)\n",
        "    info[\"slots\"] = collected_slots\n",
        "    return info"
      ]
    },
    {
      "cell_type": "code",
      "execution_count": 75,
      "metadata": {
        "colab": {
          "base_uri": "https://localhost:8080/"
        },
        "id": "PkCWE_5B5TA-",
        "outputId": "d8e1f569-15b6-4f29-c774-3f617688f672"
      },
      "outputs": [
        {
          "data": {
            "text/plain": [
              "{'intent': 'BookRestaurant',\n",
              " 'slots': {'party_size_number': 'two',\n",
              "  'restaurant_name': 'Le Ritz',\n",
              "  'timeRange': 'Friday night'}}"
            ]
          },
          "execution_count": 75,
          "metadata": {},
          "output_type": "execute_result"
        }
      ],
      "source": [
        "def nlu(text, tokenizer, model, intent_names, slot_names):\n",
        "    # Tokenize and return a dict with input_ids and attention_mask\n",
        "    inputs = tokenizer(text, return_tensors=\"tf\", padding=True, truncation=True)\n",
        "    outputs = model(inputs)\n",
        "    slot_logits, intent_logits = outputs\n",
        "\n",
        "    # Remove CLS and SEP from slot output\n",
        "    slot_ids = tf.argmax(slot_logits, axis=-1).numpy()[0, 1:-1]\n",
        "    intent_id = tf.argmax(intent_logits, axis=-1).numpy()[0]\n",
        "\n",
        "    return decode_predictions(text, tokenizer, intent_names, slot_names,\n",
        "                              intent_id, slot_ids)\n",
        "\n",
        "\n",
        "nlu(\"Book a table for two at Le Ritz for Friday night\",\n",
        "    tokenizer, joint_model, intent_names, slot_names)"
      ]
    },
    {
      "cell_type": "code",
      "execution_count": 76,
      "metadata": {
        "colab": {
          "base_uri": "https://localhost:8080/"
        },
        "id": "Dg6oEtGB8-H5",
        "outputId": "0ac17a08-40ae-4848-fd29-feab98d610b3"
      },
      "outputs": [
        {
          "data": {
            "text/plain": [
              "{'intent': 'GetWeather',\n",
              " 'slots': {'condition_description': 'snow',\n",
              "  'timeRange': 'tomorrow',\n",
              "  'city': 'Saclay'}}"
            ]
          },
          "execution_count": 76,
          "metadata": {},
          "output_type": "execute_result"
        }
      ],
      "source": [
        "nlu(\"Will it snow tomorrow in Saclay\",\n",
        "    tokenizer, joint_model, intent_names, slot_names)"
      ]
    },
    {
      "cell_type": "code",
      "execution_count": 77,
      "metadata": {
        "colab": {
          "base_uri": "https://localhost:8080/"
        },
        "id": "Q04HBffUDGXl",
        "outputId": "2f545e85-7acc-4591-9799-b493cf9a4160"
      },
      "outputs": [
        {
          "data": {
            "text/plain": [
              "{'intent': 'PlayMusic', 'slots': {'track': 'Anima', 'artist': 'Thom Yorke'}}"
            ]
          },
          "execution_count": 77,
          "metadata": {},
          "output_type": "execute_result"
        }
      ],
      "source": [
        "nlu(\"I would like to listen to Anima by Thom Yorke\",\n",
        "    tokenizer, joint_model, intent_names, slot_names)"
      ]
    },
    {
      "cell_type": "code",
      "execution_count": 78,
      "metadata": {
        "id": "yRHIuIzsP-IC"
      },
      "outputs": [],
      "source": [
        "# Save tokenizer config and vocab\n",
        "tokenizer.save_pretrained(\"./saved_model\")\n",
        "# Save model weights \n",
        "joint_model.save_weights(\"./saved_model/joint_model_weights.h5\")"
      ]
    },
    {
      "cell_type": "code",
      "execution_count": 79,
      "metadata": {},
      "outputs": [],
      "source": [
        "import json\n",
        "\n",
        "# Reverse maps\n",
        "intent_id_to_name = {v: k for k, v in intent_map.items()}\n",
        "slot_id_to_name = {v: k for k, v in slot_map.items()}\n",
        "\n",
        "with open(\"./saved_model/intent_labels.json\", \"w\") as f:\n",
        "    json.dump(intent_id_to_name, f)\n",
        "\n",
        "with open(\"./saved_model/slot_labels.json\", \"w\") as f:\n",
        "    json.dump(slot_id_to_name, f)\n"
      ]
    }
  ],
  "metadata": {
    "accelerator": "GPU",
    "colab": {
      "collapsed_sections": [],
      "name": "Copy of transformers_joint_intent_classification_slot_filling.ipynb",
      "provenance": []
    },
    "kernelspec": {
      "display_name": "distilbert",
      "language": "python",
      "name": "python3"
    },
    "language_info": {
      "codemirror_mode": {
        "name": "ipython",
        "version": 3
      },
      "file_extension": ".py",
      "mimetype": "text/x-python",
      "name": "python",
      "nbconvert_exporter": "python",
      "pygments_lexer": "ipython3",
      "version": "3.8.20"
    }
  },
  "nbformat": 4,
  "nbformat_minor": 0
}
